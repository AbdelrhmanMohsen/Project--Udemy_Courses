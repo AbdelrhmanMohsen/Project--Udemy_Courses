{
 "cells": [
  {
   "cell_type": "markdown",
   "id": "8d02d4e1",
   "metadata": {},
   "source": [
    "#  Project: Investigate a Dataset - [Udemy Courses]\n",
    "\n",
    "## Table of Contents\n",
    "<ul>\n",
    "<li><a href=\"#intro\">Introduction</a></li>\n",
    "<li><a href=\"#wrangling\">Data Wrangling</a></li>\n",
    "<li><a href=\"#eda\">Exploratory Data Analysis</a></li>\n",
    "<li><a href=\"#conclusions\">Conclusions</a></li>\n",
    "</ul>"
   ]
  },
  {
   "cell_type": "markdown",
   "id": "c083f7df",
   "metadata": {},
   "source": [
    "<a id='intro'></a>\n",
    "## Introduction\n",
    "\n",
    "### The Dataset chosen for analysis: Udemy Courses\n",
    "\n",
    ">The Dataset contains information about Udemy's subscribers and its courses from 2011 till 2017.\n",
    "\n",
    "\n",
    "## Questions for Analysis:\n",
    "\n",
    ">Which subject has the highest number of courses?\n",
    "\n",
    ">Show all the courses which are free of cost and which subject is most frequent.\n",
    "\n",
    ">Which are top and least selling courses?\n",
    "\n",
    ">Show all graphic design courses where price is lower than 100.\n",
    "\n",
    ">List all courses related with python.\n",
    "\n",
    ">What are most subscribed courses that published in 2015?\n",
    "\n",
    ">What are the max number of subscribers for each level of courses?\n",
    "\n",
    ">Is there a correlation between price and number of subscribers?\n",
    "\n",
    ">Is there a correlation between num of lectures and number of subscribers?\n",
    "\n",
    ">What is the year of the highest number of subscribers?\n",
    "\n",
    ">What is the month of the highest number of subscribers?"
   ]
  },
  {
   "cell_type": "code",
   "execution_count": 1,
   "id": "f0ee996c",
   "metadata": {},
   "outputs": [],
   "source": [
    "import pandas as pd\n",
    "import numpy as np\n",
    "import matplotlib.pyplot as plt\n",
    "%matplotlib inline\n",
    "import seaborn as sns\n",
    "sns.set()"
   ]
  },
  {
   "cell_type": "markdown",
   "id": "911cd8f7",
   "metadata": {},
   "source": [
    "<a id='wrangling'></a>\n",
    "## Data Wrangling\n",
    "\n",
    ">In this section of the report, I will load in the data, check for cleanliness, and then trim and clean the dataset for analysis."
   ]
  },
  {
   "cell_type": "code",
   "execution_count": 2,
   "id": "cad64165",
   "metadata": {},
   "outputs": [
    {
     "data": {
      "text/html": [
       "<div>\n",
       "<style scoped>\n",
       "    .dataframe tbody tr th:only-of-type {\n",
       "        vertical-align: middle;\n",
       "    }\n",
       "\n",
       "    .dataframe tbody tr th {\n",
       "        vertical-align: top;\n",
       "    }\n",
       "\n",
       "    .dataframe thead th {\n",
       "        text-align: right;\n",
       "    }\n",
       "</style>\n",
       "<table border=\"1\" class=\"dataframe\">\n",
       "  <thead>\n",
       "    <tr style=\"text-align: right;\">\n",
       "      <th></th>\n",
       "      <th>course_id</th>\n",
       "      <th>course_title</th>\n",
       "      <th>is_paid</th>\n",
       "      <th>price</th>\n",
       "      <th>num_subscribers</th>\n",
       "      <th>num_reviews</th>\n",
       "      <th>num_lectures</th>\n",
       "      <th>level</th>\n",
       "      <th>content_duration</th>\n",
       "      <th>published_timestamp</th>\n",
       "      <th>subject</th>\n",
       "    </tr>\n",
       "  </thead>\n",
       "  <tbody>\n",
       "    <tr>\n",
       "      <th>0</th>\n",
       "      <td>288942</td>\n",
       "      <td>#1 Piano Hand Coordination: Play 10th Ballad i...</td>\n",
       "      <td>True</td>\n",
       "      <td>35</td>\n",
       "      <td>3137</td>\n",
       "      <td>18</td>\n",
       "      <td>68</td>\n",
       "      <td>All Levels</td>\n",
       "      <td>1.5 hours</td>\n",
       "      <td>2014-09-18T05:07:05Z</td>\n",
       "      <td>Musical Instruments</td>\n",
       "    </tr>\n",
       "    <tr>\n",
       "      <th>1</th>\n",
       "      <td>1170074</td>\n",
       "      <td>#10 Hand Coordination - Transfer Chord Ballad ...</td>\n",
       "      <td>True</td>\n",
       "      <td>75</td>\n",
       "      <td>1593</td>\n",
       "      <td>1</td>\n",
       "      <td>41</td>\n",
       "      <td>Intermediate Level</td>\n",
       "      <td>1 hour</td>\n",
       "      <td>2017-04-12T19:06:34Z</td>\n",
       "      <td>Musical Instruments</td>\n",
       "    </tr>\n",
       "  </tbody>\n",
       "</table>\n",
       "</div>"
      ],
      "text/plain": [
       "   course_id                                       course_title  is_paid  \\\n",
       "0     288942  #1 Piano Hand Coordination: Play 10th Ballad i...     True   \n",
       "1    1170074  #10 Hand Coordination - Transfer Chord Ballad ...     True   \n",
       "\n",
       "  price  num_subscribers  num_reviews  num_lectures               level  \\\n",
       "0    35             3137           18            68          All Levels   \n",
       "1    75             1593            1            41  Intermediate Level   \n",
       "\n",
       "  content_duration   published_timestamp              subject  \n",
       "0        1.5 hours  2014-09-18T05:07:05Z  Musical Instruments  \n",
       "1           1 hour  2017-04-12T19:06:34Z  Musical Instruments  "
      ]
     },
     "execution_count": 2,
     "metadata": {},
     "output_type": "execute_result"
    }
   ],
   "source": [
    "df = pd.read_csv('Udemy Courses.csv')\n",
    "df.head(2)"
   ]
  },
  {
   "cell_type": "code",
   "execution_count": 3,
   "id": "78ecd580",
   "metadata": {},
   "outputs": [
    {
     "name": "stdout",
     "output_type": "stream",
     "text": [
      "<class 'pandas.core.frame.DataFrame'>\n",
      "RangeIndex: 3682 entries, 0 to 3681\n",
      "Data columns (total 11 columns):\n",
      " #   Column               Non-Null Count  Dtype \n",
      "---  ------               --------------  ----- \n",
      " 0   course_id            3682 non-null   int64 \n",
      " 1   course_title         3682 non-null   object\n",
      " 2   is_paid              3682 non-null   bool  \n",
      " 3   price                3682 non-null   object\n",
      " 4   num_subscribers      3682 non-null   int64 \n",
      " 5   num_reviews          3682 non-null   int64 \n",
      " 6   num_lectures         3682 non-null   int64 \n",
      " 7   level                3682 non-null   object\n",
      " 8   content_duration     3682 non-null   object\n",
      " 9   published_timestamp  3682 non-null   object\n",
      " 10  subject              3682 non-null   object\n",
      "dtypes: bool(1), int64(4), object(6)\n",
      "memory usage: 291.4+ KB\n"
     ]
    }
   ],
   "source": [
    "df.info()"
   ]
  },
  {
   "cell_type": "code",
   "execution_count": 4,
   "id": "3f79ef90",
   "metadata": {},
   "outputs": [
    {
     "data": {
      "text/html": [
       "<div>\n",
       "<style scoped>\n",
       "    .dataframe tbody tr th:only-of-type {\n",
       "        vertical-align: middle;\n",
       "    }\n",
       "\n",
       "    .dataframe tbody tr th {\n",
       "        vertical-align: top;\n",
       "    }\n",
       "\n",
       "    .dataframe thead th {\n",
       "        text-align: right;\n",
       "    }\n",
       "</style>\n",
       "<table border=\"1\" class=\"dataframe\">\n",
       "  <thead>\n",
       "    <tr style=\"text-align: right;\">\n",
       "      <th></th>\n",
       "      <th>course_id</th>\n",
       "      <th>num_subscribers</th>\n",
       "      <th>num_reviews</th>\n",
       "      <th>num_lectures</th>\n",
       "    </tr>\n",
       "  </thead>\n",
       "  <tbody>\n",
       "    <tr>\n",
       "      <th>count</th>\n",
       "      <td>3.682000e+03</td>\n",
       "      <td>3682.000000</td>\n",
       "      <td>3682.000000</td>\n",
       "      <td>3682.000000</td>\n",
       "    </tr>\n",
       "    <tr>\n",
       "      <th>mean</th>\n",
       "      <td>6.766121e+05</td>\n",
       "      <td>3194.230310</td>\n",
       "      <td>156.093156</td>\n",
       "      <td>40.065182</td>\n",
       "    </tr>\n",
       "    <tr>\n",
       "      <th>std</th>\n",
       "      <td>3.436355e+05</td>\n",
       "      <td>9499.378361</td>\n",
       "      <td>934.957204</td>\n",
       "      <td>50.373299</td>\n",
       "    </tr>\n",
       "    <tr>\n",
       "      <th>min</th>\n",
       "      <td>8.324000e+03</td>\n",
       "      <td>0.000000</td>\n",
       "      <td>0.000000</td>\n",
       "      <td>0.000000</td>\n",
       "    </tr>\n",
       "    <tr>\n",
       "      <th>25%</th>\n",
       "      <td>4.078430e+05</td>\n",
       "      <td>110.250000</td>\n",
       "      <td>4.000000</td>\n",
       "      <td>15.000000</td>\n",
       "    </tr>\n",
       "    <tr>\n",
       "      <th>50%</th>\n",
       "      <td>6.885580e+05</td>\n",
       "      <td>911.500000</td>\n",
       "      <td>18.000000</td>\n",
       "      <td>25.000000</td>\n",
       "    </tr>\n",
       "    <tr>\n",
       "      <th>75%</th>\n",
       "      <td>9.617515e+05</td>\n",
       "      <td>2540.250000</td>\n",
       "      <td>67.000000</td>\n",
       "      <td>45.000000</td>\n",
       "    </tr>\n",
       "    <tr>\n",
       "      <th>max</th>\n",
       "      <td>1.282064e+06</td>\n",
       "      <td>268923.000000</td>\n",
       "      <td>27445.000000</td>\n",
       "      <td>779.000000</td>\n",
       "    </tr>\n",
       "  </tbody>\n",
       "</table>\n",
       "</div>"
      ],
      "text/plain": [
       "          course_id  num_subscribers   num_reviews  num_lectures\n",
       "count  3.682000e+03      3682.000000   3682.000000   3682.000000\n",
       "mean   6.766121e+05      3194.230310    156.093156     40.065182\n",
       "std    3.436355e+05      9499.378361    934.957204     50.373299\n",
       "min    8.324000e+03         0.000000      0.000000      0.000000\n",
       "25%    4.078430e+05       110.250000      4.000000     15.000000\n",
       "50%    6.885580e+05       911.500000     18.000000     25.000000\n",
       "75%    9.617515e+05      2540.250000     67.000000     45.000000\n",
       "max    1.282064e+06    268923.000000  27445.000000    779.000000"
      ]
     },
     "execution_count": 4,
     "metadata": {},
     "output_type": "execute_result"
    }
   ],
   "source": [
    "df.describe()"
   ]
  },
  {
   "cell_type": "code",
   "execution_count": 5,
   "id": "d64f2b5e",
   "metadata": {},
   "outputs": [
    {
     "data": {
      "image/png": "[encoded data removed]",
      "text/plain": [
       "<Figure size 432x288 with 2 Axes>"
      ]
     },
     "metadata": {},
     "output_type": "display_data"
    }
   ],
   "source": [
    "#Checking for null values..\n",
    "sns.heatmap(df.isnull());"
   ]
  },
  {
   "cell_type": "markdown",
   "id": "466c161d",
   "metadata": {},
   "source": [
    "## Data Cleaning\n",
    "### The Data Structure:\n",
    ">Before cleaning the data, we have investigated the structure of our dataset and if there is any null values, missing values,  inconsistency or inadequate datatype, There were also unecessary columns with missing data, inadequate datatypes\n",
    "\n",
    "###  The Cleaning Process:\n",
    ">Changed the type of 'published_timestamp' into datetime64.\n",
    "\n",
    ">Added to columns 'year', 'month' for better insights.\n",
    "\n",
    ">Checked for null values.\n",
    "\n",
    ">Checked for duplicates."
   ]
  },
  {
   "cell_type": "code",
   "execution_count": 6,
   "id": "c947be7e",
   "metadata": {},
   "outputs": [],
   "source": [
    "df['published_timestamp'] = pd.to_datetime(df['published_timestamp'], format='%Y-%m-%d')"
   ]
  },
  {
   "cell_type": "code",
   "execution_count": 7,
   "id": "ce9dbc8e",
   "metadata": {},
   "outputs": [
    {
     "data": {
      "text/html": [
       "<div>\n",
       "<style scoped>\n",
       "    .dataframe tbody tr th:only-of-type {\n",
       "        vertical-align: middle;\n",
       "    }\n",
       "\n",
       "    .dataframe tbody tr th {\n",
       "        vertical-align: top;\n",
       "    }\n",
       "\n",
       "    .dataframe thead th {\n",
       "        text-align: right;\n",
       "    }\n",
       "</style>\n",
       "<table border=\"1\" class=\"dataframe\">\n",
       "  <thead>\n",
       "    <tr style=\"text-align: right;\">\n",
       "      <th></th>\n",
       "      <th>course_id</th>\n",
       "      <th>course_title</th>\n",
       "      <th>is_paid</th>\n",
       "      <th>price</th>\n",
       "      <th>num_subscribers</th>\n",
       "      <th>num_reviews</th>\n",
       "      <th>num_lectures</th>\n",
       "      <th>level</th>\n",
       "      <th>content_duration</th>\n",
       "      <th>published_timestamp</th>\n",
       "      <th>subject</th>\n",
       "      <th>year</th>\n",
       "      <th>month</th>\n",
       "    </tr>\n",
       "  </thead>\n",
       "  <tbody>\n",
       "    <tr>\n",
       "      <th>0</th>\n",
       "      <td>288942</td>\n",
       "      <td>#1 Piano Hand Coordination: Play 10th Ballad i...</td>\n",
       "      <td>True</td>\n",
       "      <td>35</td>\n",
       "      <td>3137</td>\n",
       "      <td>18</td>\n",
       "      <td>68</td>\n",
       "      <td>All Levels</td>\n",
       "      <td>1.5 hours</td>\n",
       "      <td>2014-09-18 05:07:05+00:00</td>\n",
       "      <td>Musical Instruments</td>\n",
       "      <td>2014</td>\n",
       "      <td>9</td>\n",
       "    </tr>\n",
       "  </tbody>\n",
       "</table>\n",
       "</div>"
      ],
      "text/plain": [
       "   course_id                                       course_title  is_paid  \\\n",
       "0     288942  #1 Piano Hand Coordination: Play 10th Ballad i...     True   \n",
       "\n",
       "  price  num_subscribers  num_reviews  num_lectures       level  \\\n",
       "0    35             3137           18            68  All Levels   \n",
       "\n",
       "  content_duration       published_timestamp              subject  year  month  \n",
       "0        1.5 hours 2014-09-18 05:07:05+00:00  Musical Instruments  2014      9  "
      ]
     },
     "execution_count": 7,
     "metadata": {},
     "output_type": "execute_result"
    }
   ],
   "source": [
    "# Adding the 'year' and 'month' columns..\n",
    "df['year'] = df['published_timestamp'].dt.year\n",
    "df['month'] = df['published_timestamp'].dt.month\n",
    "df.head(1)"
   ]
  },
  {
   "cell_type": "code",
   "execution_count": 8,
   "id": "2a041348",
   "metadata": {},
   "outputs": [
    {
     "data": {
      "text/plain": [
       "6"
      ]
     },
     "execution_count": 8,
     "metadata": {},
     "output_type": "execute_result"
    }
   ],
   "source": [
    "#Checking for duplicates...\n",
    "df.duplicated().sum()"
   ]
  },
  {
   "cell_type": "code",
   "execution_count": 9,
   "id": "ae3502fa",
   "metadata": {},
   "outputs": [],
   "source": [
    "df.drop_duplicates(inplace =True)"
   ]
  },
  {
   "cell_type": "code",
   "execution_count": 10,
   "id": "0e29420f",
   "metadata": {},
   "outputs": [
    {
     "data": {
      "text/plain": [
       "0"
      ]
     },
     "execution_count": 10,
     "metadata": {},
     "output_type": "execute_result"
    }
   ],
   "source": [
    "df.duplicated().sum()"
   ]
  },
  {
   "cell_type": "code",
   "execution_count": 11,
   "id": "45aa7f5f",
   "metadata": {},
   "outputs": [
    {
     "data": {
      "image/png": "[encoded data removed]",
      "text/plain": [
       "<Figure size 936x936 with 9 Axes>"
      ]
     },
     "metadata": {},
     "output_type": "display_data"
    }
   ],
   "source": [
    "#An Overview of the dataset..\n",
    "df.hist(figsize=(13,13),\n",
    "        color = 'midnightblue');"
   ]
  },
  {
   "cell_type": "markdown",
   "id": "5949f5ed",
   "metadata": {},
   "source": [
    "# Q1: Which subject has the highest number of courses?"
   ]
  },
  {
   "cell_type": "code",
   "execution_count": 12,
   "id": "7ba265fd",
   "metadata": {},
   "outputs": [
    {
     "data": {
      "text/html": [
       "<div>\n",
       "<style scoped>\n",
       "    .dataframe tbody tr th:only-of-type {\n",
       "        vertical-align: middle;\n",
       "    }\n",
       "\n",
       "    .dataframe tbody tr th {\n",
       "        vertical-align: top;\n",
       "    }\n",
       "\n",
       "    .dataframe thead th {\n",
       "        text-align: right;\n",
       "    }\n",
       "</style>\n",
       "<table border=\"1\" class=\"dataframe\">\n",
       "  <thead>\n",
       "    <tr style=\"text-align: right;\">\n",
       "      <th></th>\n",
       "      <th>course_id</th>\n",
       "      <th>course_title</th>\n",
       "      <th>is_paid</th>\n",
       "      <th>price</th>\n",
       "      <th>num_subscribers</th>\n",
       "      <th>num_reviews</th>\n",
       "      <th>num_lectures</th>\n",
       "      <th>level</th>\n",
       "      <th>content_duration</th>\n",
       "      <th>published_timestamp</th>\n",
       "      <th>subject</th>\n",
       "      <th>year</th>\n",
       "      <th>month</th>\n",
       "    </tr>\n",
       "  </thead>\n",
       "  <tbody>\n",
       "    <tr>\n",
       "      <th>0</th>\n",
       "      <td>288942</td>\n",
       "      <td>#1 Piano Hand Coordination: Play 10th Ballad i...</td>\n",
       "      <td>True</td>\n",
       "      <td>35</td>\n",
       "      <td>3137</td>\n",
       "      <td>18</td>\n",
       "      <td>68</td>\n",
       "      <td>All Levels</td>\n",
       "      <td>1.5 hours</td>\n",
       "      <td>2014-09-18 05:07:05+00:00</td>\n",
       "      <td>Musical Instruments</td>\n",
       "      <td>2014</td>\n",
       "      <td>9</td>\n",
       "    </tr>\n",
       "  </tbody>\n",
       "</table>\n",
       "</div>"
      ],
      "text/plain": [
       "   course_id                                       course_title  is_paid  \\\n",
       "0     288942  #1 Piano Hand Coordination: Play 10th Ballad i...     True   \n",
       "\n",
       "  price  num_subscribers  num_reviews  num_lectures       level  \\\n",
       "0    35             3137           18            68  All Levels   \n",
       "\n",
       "  content_duration       published_timestamp              subject  year  month  \n",
       "0        1.5 hours 2014-09-18 05:07:05+00:00  Musical Instruments  2014      9  "
      ]
     },
     "execution_count": 12,
     "metadata": {},
     "output_type": "execute_result"
    }
   ],
   "source": [
    "df.head(1)"
   ]
  },
  {
   "cell_type": "code",
   "execution_count": 13,
   "id": "e8c95786",
   "metadata": {},
   "outputs": [
    {
     "data": {
      "text/plain": [
       "array(['Musical Instruments', 'Business Finance', 'Graphic Design',\n",
       "       'Web Development'], dtype=object)"
      ]
     },
     "execution_count": 13,
     "metadata": {},
     "output_type": "execute_result"
    }
   ],
   "source": [
    "df['subject'].unique()"
   ]
  },
  {
   "cell_type": "code",
   "execution_count": 14,
   "id": "63a81693",
   "metadata": {},
   "outputs": [
    {
     "data": {
      "text/plain": [
       "subject\n",
       "Web Development        1199\n",
       "Business Finance       1195\n",
       "Musical Instruments     680\n",
       "Graphic Design          602\n",
       "Name: course_title, dtype: int64"
      ]
     },
     "execution_count": 14,
     "metadata": {},
     "output_type": "execute_result"
    }
   ],
   "source": [
    "sub_course = df.groupby('subject')['course_title'].count().sort_values(ascending = False)\n",
    "sub_course"
   ]
  },
  {
   "cell_type": "code",
   "execution_count": 15,
   "id": "ed24b048",
   "metadata": {},
   "outputs": [
    {
     "data": {
      "image/png": "[encoded data removed]",
      "text/plain": [
       "<Figure size 864x576 with 1 Axes>"
      ]
     },
     "metadata": {},
     "output_type": "display_data"
    }
   ],
   "source": [
    "plt.figure(figsize=(12,8))\n",
    "sns.barplot(x = sub_course, \n",
    "            y = sub_course.index,\n",
    "            palette = 'Set2')\n",
    "plt.title('Subjects & number of courses', fontsize = 18, weight = 'bold')\n",
    "plt.xlabel('Number of courses',fontsize = 18, weight = 'bold')\n",
    "plt.ylabel('Subject',fontsize = 18, weight = 'bold')\n",
    "plt.show();"
   ]
  },
  {
   "cell_type": "markdown",
   "id": "6a2600e0",
   "metadata": {},
   "source": [
    ">Both Web Development & Business Finance almost have 1200 cousrse, Musical Instruments has 680, while Graphic Design has only  602 course."
   ]
  },
  {
   "cell_type": "markdown",
   "id": "564b5550",
   "metadata": {},
   "source": [
    "# Q2: Show all the courses which are free of cost and which subject is most frequent"
   ]
  },
  {
   "cell_type": "code",
   "execution_count": 16,
   "id": "165ba43c",
   "metadata": {
    "scrolled": true
   },
   "outputs": [
    {
     "data": {
      "text/html": [
       "<div>\n",
       "<style scoped>\n",
       "    .dataframe tbody tr th:only-of-type {\n",
       "        vertical-align: middle;\n",
       "    }\n",
       "\n",
       "    .dataframe tbody tr th {\n",
       "        vertical-align: top;\n",
       "    }\n",
       "\n",
       "    .dataframe thead th {\n",
       "        text-align: right;\n",
       "    }\n",
       "</style>\n",
       "<table border=\"1\" class=\"dataframe\">\n",
       "  <thead>\n",
       "    <tr style=\"text-align: right;\">\n",
       "      <th></th>\n",
       "      <th>course_id</th>\n",
       "      <th>course_title</th>\n",
       "      <th>is_paid</th>\n",
       "      <th>price</th>\n",
       "      <th>num_subscribers</th>\n",
       "      <th>num_reviews</th>\n",
       "      <th>num_lectures</th>\n",
       "      <th>level</th>\n",
       "      <th>content_duration</th>\n",
       "      <th>published_timestamp</th>\n",
       "      <th>subject</th>\n",
       "      <th>year</th>\n",
       "      <th>month</th>\n",
       "    </tr>\n",
       "  </thead>\n",
       "  <tbody>\n",
       "    <tr>\n",
       "      <th>0</th>\n",
       "      <td>288942</td>\n",
       "      <td>#1 Piano Hand Coordination: Play 10th Ballad i...</td>\n",
       "      <td>True</td>\n",
       "      <td>35</td>\n",
       "      <td>3137</td>\n",
       "      <td>18</td>\n",
       "      <td>68</td>\n",
       "      <td>All Levels</td>\n",
       "      <td>1.5 hours</td>\n",
       "      <td>2014-09-18 05:07:05+00:00</td>\n",
       "      <td>Musical Instruments</td>\n",
       "      <td>2014</td>\n",
       "      <td>9</td>\n",
       "    </tr>\n",
       "    <tr>\n",
       "      <th>1</th>\n",
       "      <td>1170074</td>\n",
       "      <td>#10 Hand Coordination - Transfer Chord Ballad ...</td>\n",
       "      <td>True</td>\n",
       "      <td>75</td>\n",
       "      <td>1593</td>\n",
       "      <td>1</td>\n",
       "      <td>41</td>\n",
       "      <td>Intermediate Level</td>\n",
       "      <td>1 hour</td>\n",
       "      <td>2017-04-12 19:06:34+00:00</td>\n",
       "      <td>Musical Instruments</td>\n",
       "      <td>2017</td>\n",
       "      <td>4</td>\n",
       "    </tr>\n",
       "    <tr>\n",
       "      <th>2</th>\n",
       "      <td>1193886</td>\n",
       "      <td>#12 Hand Coordination: Let your Hands dance wi...</td>\n",
       "      <td>True</td>\n",
       "      <td>75</td>\n",
       "      <td>482</td>\n",
       "      <td>1</td>\n",
       "      <td>47</td>\n",
       "      <td>Intermediate Level</td>\n",
       "      <td>1.5 hours</td>\n",
       "      <td>2017-04-26 18:34:57+00:00</td>\n",
       "      <td>Musical Instruments</td>\n",
       "      <td>2017</td>\n",
       "      <td>4</td>\n",
       "    </tr>\n",
       "  </tbody>\n",
       "</table>\n",
       "</div>"
      ],
      "text/plain": [
       "   course_id                                       course_title  is_paid  \\\n",
       "0     288942  #1 Piano Hand Coordination: Play 10th Ballad i...     True   \n",
       "1    1170074  #10 Hand Coordination - Transfer Chord Ballad ...     True   \n",
       "2    1193886  #12 Hand Coordination: Let your Hands dance wi...     True   \n",
       "\n",
       "  price  num_subscribers  num_reviews  num_lectures               level  \\\n",
       "0    35             3137           18            68          All Levels   \n",
       "1    75             1593            1            41  Intermediate Level   \n",
       "2    75              482            1            47  Intermediate Level   \n",
       "\n",
       "  content_duration       published_timestamp              subject  year  month  \n",
       "0        1.5 hours 2014-09-18 05:07:05+00:00  Musical Instruments  2014      9  \n",
       "1           1 hour 2017-04-12 19:06:34+00:00  Musical Instruments  2017      4  \n",
       "2        1.5 hours 2017-04-26 18:34:57+00:00  Musical Instruments  2017      4  "
      ]
     },
     "execution_count": 16,
     "metadata": {},
     "output_type": "execute_result"
    }
   ],
   "source": [
    "df.head(3)"
   ]
  },
  {
   "cell_type": "code",
   "execution_count": 17,
   "id": "25c47bf7",
   "metadata": {},
   "outputs": [
    {
     "data": {
      "text/plain": [
       "array(['35', '75', '65', '200', '25', '100', '20', '40', '30', '45',\n",
       "       '185', '120', '105', '50', 'Free', '145', '55', '85', '110', '150',\n",
       "       '95', '180', '125', '60', '90', '195', '80', '70', '140', '190',\n",
       "       '115', '130', '170', '175', '165', '135', '155', '160'],\n",
       "      dtype=object)"
      ]
     },
     "execution_count": 17,
     "metadata": {},
     "output_type": "execute_result"
    }
   ],
   "source": [
    "df['price'].unique()"
   ]
  },
  {
   "cell_type": "code",
   "execution_count": 18,
   "id": "20e11f85",
   "metadata": {},
   "outputs": [
    {
     "data": {
      "text/html": [
       "<div>\n",
       "<style scoped>\n",
       "    .dataframe tbody tr th:only-of-type {\n",
       "        vertical-align: middle;\n",
       "    }\n",
       "\n",
       "    .dataframe tbody tr th {\n",
       "        vertical-align: top;\n",
       "    }\n",
       "\n",
       "    .dataframe thead th {\n",
       "        text-align: right;\n",
       "    }\n",
       "</style>\n",
       "<table border=\"1\" class=\"dataframe\">\n",
       "  <thead>\n",
       "    <tr style=\"text-align: right;\">\n",
       "      <th></th>\n",
       "      <th>course_id</th>\n",
       "      <th>course_title</th>\n",
       "      <th>is_paid</th>\n",
       "      <th>price</th>\n",
       "      <th>num_subscribers</th>\n",
       "      <th>num_reviews</th>\n",
       "      <th>num_lectures</th>\n",
       "      <th>level</th>\n",
       "      <th>content_duration</th>\n",
       "      <th>published_timestamp</th>\n",
       "      <th>subject</th>\n",
       "      <th>year</th>\n",
       "      <th>month</th>\n",
       "    </tr>\n",
       "  </thead>\n",
       "  <tbody>\n",
       "    <tr>\n",
       "      <th>41</th>\n",
       "      <td>286070</td>\n",
       "      <td>5 lecciones que todo guitarrista debe tomar</td>\n",
       "      <td>False</td>\n",
       "      <td>Free</td>\n",
       "      <td>4452</td>\n",
       "      <td>263</td>\n",
       "      <td>14</td>\n",
       "      <td>Beginner Level</td>\n",
       "      <td>1 hour</td>\n",
       "      <td>2014-08-23 05:08:14+00:00</td>\n",
       "      <td>Musical Instruments</td>\n",
       "      <td>2014</td>\n",
       "      <td>8</td>\n",
       "    </tr>\n",
       "    <tr>\n",
       "      <th>49</th>\n",
       "      <td>696630</td>\n",
       "      <td>7 Ways A Beginner Guitarist Can Sound Better, ...</td>\n",
       "      <td>False</td>\n",
       "      <td>Free</td>\n",
       "      <td>4529</td>\n",
       "      <td>193</td>\n",
       "      <td>7</td>\n",
       "      <td>Beginner Level</td>\n",
       "      <td>36 mins</td>\n",
       "      <td>2015-12-21 18:50:50+00:00</td>\n",
       "      <td>Musical Instruments</td>\n",
       "      <td>2015</td>\n",
       "      <td>12</td>\n",
       "    </tr>\n",
       "    <tr>\n",
       "      <th>57</th>\n",
       "      <td>955914</td>\n",
       "      <td>A beginner`s guide to fingerpicking and strumm...</td>\n",
       "      <td>False</td>\n",
       "      <td>Free</td>\n",
       "      <td>3481</td>\n",
       "      <td>29</td>\n",
       "      <td>20</td>\n",
       "      <td>Beginner Level</td>\n",
       "      <td>2 hours</td>\n",
       "      <td>2016-09-13 21:51:59+00:00</td>\n",
       "      <td>Musical Instruments</td>\n",
       "      <td>2016</td>\n",
       "      <td>9</td>\n",
       "    </tr>\n",
       "    <tr>\n",
       "      <th>67</th>\n",
       "      <td>270976</td>\n",
       "      <td>A how to guide in HTML</td>\n",
       "      <td>False</td>\n",
       "      <td>Free</td>\n",
       "      <td>7318</td>\n",
       "      <td>205</td>\n",
       "      <td>8</td>\n",
       "      <td>Beginner Level</td>\n",
       "      <td>35 mins</td>\n",
       "      <td>2014-08-10 20:19:10+00:00</td>\n",
       "      <td>Web Development</td>\n",
       "      <td>2014</td>\n",
       "      <td>8</td>\n",
       "    </tr>\n",
       "    <tr>\n",
       "      <th>74</th>\n",
       "      <td>1214144</td>\n",
       "      <td>¡Triunfar en La Bolsa de Valores No Requiere d...</td>\n",
       "      <td>False</td>\n",
       "      <td>Free</td>\n",
       "      <td>338</td>\n",
       "      <td>7</td>\n",
       "      <td>6</td>\n",
       "      <td>Beginner Level</td>\n",
       "      <td>1 hour</td>\n",
       "      <td>2017-05-30 14:30:12+00:00</td>\n",
       "      <td>Business Finance</td>\n",
       "      <td>2017</td>\n",
       "      <td>5</td>\n",
       "    </tr>\n",
       "    <tr>\n",
       "      <th>...</th>\n",
       "      <td>...</td>\n",
       "      <td>...</td>\n",
       "      <td>...</td>\n",
       "      <td>...</td>\n",
       "      <td>...</td>\n",
       "      <td>...</td>\n",
       "      <td>...</td>\n",
       "      <td>...</td>\n",
       "      <td>...</td>\n",
       "      <td>...</td>\n",
       "      <td>...</td>\n",
       "      <td>...</td>\n",
       "      <td>...</td>\n",
       "    </tr>\n",
       "    <tr>\n",
       "      <th>3620</th>\n",
       "      <td>552598</td>\n",
       "      <td>WordPress in under an hour - Create/manage you...</td>\n",
       "      <td>False</td>\n",
       "      <td>Free</td>\n",
       "      <td>6474</td>\n",
       "      <td>86</td>\n",
       "      <td>15</td>\n",
       "      <td>All Levels</td>\n",
       "      <td>1 hour</td>\n",
       "      <td>2015-07-15 00:21:56+00:00</td>\n",
       "      <td>Web Development</td>\n",
       "      <td>2015</td>\n",
       "      <td>7</td>\n",
       "    </tr>\n",
       "    <tr>\n",
       "      <th>3638</th>\n",
       "      <td>1068590</td>\n",
       "      <td>Wordpress Website Mastery 2017</td>\n",
       "      <td>False</td>\n",
       "      <td>Free</td>\n",
       "      <td>5181</td>\n",
       "      <td>64</td>\n",
       "      <td>22</td>\n",
       "      <td>Beginner Level</td>\n",
       "      <td>2.5 hours</td>\n",
       "      <td>2017-01-18 17:01:40+00:00</td>\n",
       "      <td>Web Development</td>\n",
       "      <td>2017</td>\n",
       "      <td>1</td>\n",
       "    </tr>\n",
       "    <tr>\n",
       "      <th>3652</th>\n",
       "      <td>752706</td>\n",
       "      <td>Write quicker HTML5 and CSS 3; productivity ha...</td>\n",
       "      <td>False</td>\n",
       "      <td>Free</td>\n",
       "      <td>13016</td>\n",
       "      <td>286</td>\n",
       "      <td>15</td>\n",
       "      <td>All Levels</td>\n",
       "      <td>1.5 hours</td>\n",
       "      <td>2016-03-03 17:45:31+00:00</td>\n",
       "      <td>Web Development</td>\n",
       "      <td>2016</td>\n",
       "      <td>3</td>\n",
       "    </tr>\n",
       "    <tr>\n",
       "      <th>3674</th>\n",
       "      <td>1257976</td>\n",
       "      <td>Your First 10 Guitar Lessons - Learn how to pl...</td>\n",
       "      <td>False</td>\n",
       "      <td>Free</td>\n",
       "      <td>924</td>\n",
       "      <td>4</td>\n",
       "      <td>18</td>\n",
       "      <td>Beginner Level</td>\n",
       "      <td>1 hour</td>\n",
       "      <td>2017-06-29 00:29:36+00:00</td>\n",
       "      <td>Musical Instruments</td>\n",
       "      <td>2017</td>\n",
       "      <td>6</td>\n",
       "    </tr>\n",
       "    <tr>\n",
       "      <th>3680</th>\n",
       "      <td>1225194</td>\n",
       "      <td>Zoho Books Gestion Financière d'Entreprise pas...</td>\n",
       "      <td>False</td>\n",
       "      <td>Free</td>\n",
       "      <td>229</td>\n",
       "      <td>0</td>\n",
       "      <td>33</td>\n",
       "      <td>All Levels</td>\n",
       "      <td>2 hours</td>\n",
       "      <td>2017-05-26 16:45:55+00:00</td>\n",
       "      <td>Business Finance</td>\n",
       "      <td>2017</td>\n",
       "      <td>5</td>\n",
       "    </tr>\n",
       "  </tbody>\n",
       "</table>\n",
       "<p>310 rows × 13 columns</p>\n",
       "</div>"
      ],
      "text/plain": [
       "      course_id                                       course_title  is_paid  \\\n",
       "41       286070        5 lecciones que todo guitarrista debe tomar    False   \n",
       "49       696630  7 Ways A Beginner Guitarist Can Sound Better, ...    False   \n",
       "57       955914  A beginner`s guide to fingerpicking and strumm...    False   \n",
       "67       270976                             A how to guide in HTML    False   \n",
       "74      1214144  ¡Triunfar en La Bolsa de Valores No Requiere d...    False   \n",
       "...         ...                                                ...      ...   \n",
       "3620     552598  WordPress in under an hour - Create/manage you...    False   \n",
       "3638    1068590                     Wordpress Website Mastery 2017    False   \n",
       "3652     752706  Write quicker HTML5 and CSS 3; productivity ha...    False   \n",
       "3674    1257976  Your First 10 Guitar Lessons - Learn how to pl...    False   \n",
       "3680    1225194  Zoho Books Gestion Financière d'Entreprise pas...    False   \n",
       "\n",
       "     price  num_subscribers  num_reviews  num_lectures           level  \\\n",
       "41    Free             4452          263            14  Beginner Level   \n",
       "49    Free             4529          193             7  Beginner Level   \n",
       "57    Free             3481           29            20  Beginner Level   \n",
       "67    Free             7318          205             8  Beginner Level   \n",
       "74    Free              338            7             6  Beginner Level   \n",
       "...    ...              ...          ...           ...             ...   \n",
       "3620  Free             6474           86            15      All Levels   \n",
       "3638  Free             5181           64            22  Beginner Level   \n",
       "3652  Free            13016          286            15      All Levels   \n",
       "3674  Free              924            4            18  Beginner Level   \n",
       "3680  Free              229            0            33      All Levels   \n",
       "\n",
       "     content_duration       published_timestamp              subject  year  \\\n",
       "41             1 hour 2014-08-23 05:08:14+00:00  Musical Instruments  2014   \n",
       "49            36 mins 2015-12-21 18:50:50+00:00  Musical Instruments  2015   \n",
       "57            2 hours 2016-09-13 21:51:59+00:00  Musical Instruments  2016   \n",
       "67            35 mins 2014-08-10 20:19:10+00:00      Web Development  2014   \n",
       "74             1 hour 2017-05-30 14:30:12+00:00     Business Finance  2017   \n",
       "...               ...                       ...                  ...   ...   \n",
       "3620           1 hour 2015-07-15 00:21:56+00:00      Web Development  2015   \n",
       "3638        2.5 hours 2017-01-18 17:01:40+00:00      Web Development  2017   \n",
       "3652        1.5 hours 2016-03-03 17:45:31+00:00      Web Development  2016   \n",
       "3674           1 hour 2017-06-29 00:29:36+00:00  Musical Instruments  2017   \n",
       "3680          2 hours 2017-05-26 16:45:55+00:00     Business Finance  2017   \n",
       "\n",
       "      month  \n",
       "41        8  \n",
       "49       12  \n",
       "57        9  \n",
       "67        8  \n",
       "74        5  \n",
       "...     ...  \n",
       "3620      7  \n",
       "3638      1  \n",
       "3652      3  \n",
       "3674      6  \n",
       "3680      5  \n",
       "\n",
       "[310 rows x 13 columns]"
      ]
     },
     "execution_count": 18,
     "metadata": {},
     "output_type": "execute_result"
    }
   ],
   "source": [
    "free_df = df[df['price'] == 'Free']\n",
    "free_df "
   ]
  },
  {
   "cell_type": "code",
   "execution_count": 19,
   "id": "c76295e3",
   "metadata": {},
   "outputs": [
    {
     "data": {
      "text/plain": [
       "subject\n",
       "Web Development        133\n",
       "Business Finance        96\n",
       "Musical Instruments     46\n",
       "Graphic Design          35\n",
       "Name: price, dtype: int64"
      ]
     },
     "execution_count": 19,
     "metadata": {},
     "output_type": "execute_result"
    }
   ],
   "source": [
    "free_subject = free_df.groupby('subject')['price'].count().sort_values(ascending = False)\n",
    "free_subject"
   ]
  },
  {
   "cell_type": "code",
   "execution_count": 20,
   "id": "b169689d",
   "metadata": {},
   "outputs": [
    {
     "data": {
      "image/png": "[encoded data removed]",
      "text/plain": [
       "<Figure size 864x576 with 1 Axes>"
      ]
     },
     "metadata": {},
     "output_type": "display_data"
    }
   ],
   "source": [
    "plt.figure(figsize=(12,8))\n",
    "sns.barplot(x = free_subject, \n",
    "            y = free_subject.index,\n",
    "            palette = 'Set2')\n",
    "plt.title('Subjects & Free of courses', fontsize = 18, weight = 'bold')\n",
    "plt.xlabel('Count',fontsize = 18, weight = 'bold')\n",
    "plt.ylabel('Subject',fontsize = 18, weight = 'bold')\n",
    "plt.show();\n"
   ]
  },
  {
   "cell_type": "markdown",
   "id": "e90e9aa7",
   "metadata": {},
   "source": [
    "> There are 310 free courses, Web development has alone 133 of them."
   ]
  },
  {
   "cell_type": "markdown",
   "id": "660d2f4b",
   "metadata": {},
   "source": [
    "# Q3: Which are top selling courses?"
   ]
  },
  {
   "cell_type": "code",
   "execution_count": 21,
   "id": "54176461",
   "metadata": {},
   "outputs": [
    {
     "data": {
      "text/html": [
       "<div>\n",
       "<style scoped>\n",
       "    .dataframe tbody tr th:only-of-type {\n",
       "        vertical-align: middle;\n",
       "    }\n",
       "\n",
       "    .dataframe tbody tr th {\n",
       "        vertical-align: top;\n",
       "    }\n",
       "\n",
       "    .dataframe thead th {\n",
       "        text-align: right;\n",
       "    }\n",
       "</style>\n",
       "<table border=\"1\" class=\"dataframe\">\n",
       "  <thead>\n",
       "    <tr style=\"text-align: right;\">\n",
       "      <th></th>\n",
       "      <th>course_id</th>\n",
       "      <th>course_title</th>\n",
       "      <th>is_paid</th>\n",
       "      <th>price</th>\n",
       "      <th>num_subscribers</th>\n",
       "      <th>num_reviews</th>\n",
       "      <th>num_lectures</th>\n",
       "      <th>level</th>\n",
       "      <th>content_duration</th>\n",
       "      <th>published_timestamp</th>\n",
       "      <th>subject</th>\n",
       "      <th>year</th>\n",
       "      <th>month</th>\n",
       "    </tr>\n",
       "  </thead>\n",
       "  <tbody>\n",
       "    <tr>\n",
       "      <th>0</th>\n",
       "      <td>288942</td>\n",
       "      <td>#1 Piano Hand Coordination: Play 10th Ballad i...</td>\n",
       "      <td>True</td>\n",
       "      <td>35</td>\n",
       "      <td>3137</td>\n",
       "      <td>18</td>\n",
       "      <td>68</td>\n",
       "      <td>All Levels</td>\n",
       "      <td>1.5 hours</td>\n",
       "      <td>2014-09-18 05:07:05+00:00</td>\n",
       "      <td>Musical Instruments</td>\n",
       "      <td>2014</td>\n",
       "      <td>9</td>\n",
       "    </tr>\n",
       "  </tbody>\n",
       "</table>\n",
       "</div>"
      ],
      "text/plain": [
       "   course_id                                       course_title  is_paid  \\\n",
       "0     288942  #1 Piano Hand Coordination: Play 10th Ballad i...     True   \n",
       "\n",
       "  price  num_subscribers  num_reviews  num_lectures       level  \\\n",
       "0    35             3137           18            68  All Levels   \n",
       "\n",
       "  content_duration       published_timestamp              subject  year  month  \n",
       "0        1.5 hours 2014-09-18 05:07:05+00:00  Musical Instruments  2014      9  "
      ]
     },
     "execution_count": 21,
     "metadata": {},
     "output_type": "execute_result"
    }
   ],
   "source": [
    "df.head(1)"
   ]
  },
  {
   "cell_type": "code",
   "execution_count": 22,
   "id": "dcae8da6",
   "metadata": {},
   "outputs": [
    {
     "data": {
      "text/plain": [
       "course_title\n",
       "Learn HTML5 Programming From Scratch                            268923\n",
       "Coding for Entrepreneurs Basic                                  161029\n",
       "The Web Developer Bootcamp                                      121584\n",
       "Build Your First Website in 1 Week with HTML5 and CSS3          120291\n",
       "The Complete Web Developer Course 2.0                           114512\n",
       "Free Beginner Electric Guitar Lessons                           101154\n",
       "Web Design for Web Developers: Build Beautiful Websites!         98867\n",
       "Learn Javascript & JQuery From Scratch                           84897\n",
       "Practical PHP: Master the Basics and Code Dynamic Websites       83737\n",
       "JavaScript: Understanding the Weird Parts                        79612\n",
       "Pianoforall - Incredible New Way To Learn Piano & Keyboard       75499\n",
       "Angular 4 (formerly Angular 2) - The Complete Guide              73783\n",
       "Beginner Photoshop to HTML5 and CSS3                             73110\n",
       "Web Development By Doing: HTML / CSS From Scratch                72932\n",
       "HTML and CSS for Beginners - Build a Website & Launch ONLINE     70773\n",
       "Become a Web Developer from Scratch                              69186\n",
       "Bitcoin or How I Learned to Stop Worrying and Love Crypto        65576\n",
       "Quickstart AngularJS                                             64128\n",
       "Learn Responsive Web Development from Scratch                    59639\n",
       "Learn and Understand AngularJS                                   59361\n",
       "Name: num_subscribers, dtype: int64"
      ]
     },
     "execution_count": 22,
     "metadata": {},
     "output_type": "execute_result"
    }
   ],
   "source": [
    "top_selling = df.groupby('course_title')['num_subscribers'].sum().sort_values(ascending = False).head(20)\n",
    "top_selling"
   ]
  },
  {
   "cell_type": "code",
   "execution_count": 23,
   "id": "d544bc78",
   "metadata": {},
   "outputs": [
    {
     "data": {
      "image/png": "[encoded data removed]",
      "text/plain": [
       "<Figure size 1440x1152 with 1 Axes>"
      ]
     },
     "metadata": {},
     "output_type": "display_data"
    }
   ],
   "source": [
    "plt.figure(figsize=(20,16))\n",
    "sns.barplot(x = top_selling, \n",
    "            y = top_selling.index,\n",
    "            palette = 'Set2')\n",
    "plt.title('Top Selling Courses', fontsize = 24, weight = 'bold')\n",
    "plt.xlabel('Num of subscribers',fontsize = 18, weight = 'bold')\n",
    "plt.ylabel('Course title',fontsize = 18, weight = 'bold')\n",
    "plt.show();"
   ]
  },
  {
   "cell_type": "markdown",
   "id": "eeb6823f",
   "metadata": {},
   "source": [
    ">Learn HTML5 Programming From Scratch leads the charts with 268923 subscribers."
   ]
  },
  {
   "cell_type": "markdown",
   "id": "b6f50261",
   "metadata": {},
   "source": [
    "# Q4: Show all graphic design courses where price is lower than 100"
   ]
  },
  {
   "cell_type": "code",
   "execution_count": 24,
   "id": "b664795d",
   "metadata": {},
   "outputs": [
    {
     "data": {
      "text/plain": [
       "array(['Musical Instruments', 'Business Finance', 'Graphic Design',\n",
       "       'Web Development'], dtype=object)"
      ]
     },
     "execution_count": 24,
     "metadata": {},
     "output_type": "execute_result"
    }
   ],
   "source": [
    "df.subject.unique()"
   ]
  },
  {
   "cell_type": "code",
   "execution_count": 25,
   "id": "206bac19",
   "metadata": {},
   "outputs": [
    {
     "data": {
      "text/html": [
       "<div>\n",
       "<style scoped>\n",
       "    .dataframe tbody tr th:only-of-type {\n",
       "        vertical-align: middle;\n",
       "    }\n",
       "\n",
       "    .dataframe tbody tr th {\n",
       "        vertical-align: top;\n",
       "    }\n",
       "\n",
       "    .dataframe thead th {\n",
       "        text-align: right;\n",
       "    }\n",
       "</style>\n",
       "<table border=\"1\" class=\"dataframe\">\n",
       "  <thead>\n",
       "    <tr style=\"text-align: right;\">\n",
       "      <th></th>\n",
       "      <th>course_id</th>\n",
       "      <th>course_title</th>\n",
       "      <th>is_paid</th>\n",
       "      <th>price</th>\n",
       "      <th>num_subscribers</th>\n",
       "      <th>num_reviews</th>\n",
       "      <th>num_lectures</th>\n",
       "      <th>level</th>\n",
       "      <th>content_duration</th>\n",
       "      <th>published_timestamp</th>\n",
       "      <th>subject</th>\n",
       "      <th>year</th>\n",
       "      <th>month</th>\n",
       "    </tr>\n",
       "  </thead>\n",
       "  <tbody>\n",
       "  </tbody>\n",
       "</table>\n",
       "</div>"
      ],
      "text/plain": [
       "Empty DataFrame\n",
       "Columns: [course_id, course_title, is_paid, price, num_subscribers, num_reviews, num_lectures, level, content_duration, published_timestamp, subject, year, month]\n",
       "Index: []"
      ]
     },
     "execution_count": 25,
     "metadata": {},
     "output_type": "execute_result"
    }
   ],
   "source": [
    "df[(df['subject'] == 'Graphic Design')&(df['price'] < '100')]"
   ]
  },
  {
   "cell_type": "markdown",
   "id": "531c6b33",
   "metadata": {},
   "source": [
    ">No Graphic design courses less than 100 dollars."
   ]
  },
  {
   "cell_type": "markdown",
   "id": "aea391ba",
   "metadata": {},
   "source": [
    "# Q5: List all courses related with python"
   ]
  },
  {
   "cell_type": "code",
   "execution_count": 26,
   "id": "1181e060",
   "metadata": {},
   "outputs": [
    {
     "data": {
      "text/html": [
       "<div>\n",
       "<style scoped>\n",
       "    .dataframe tbody tr th:only-of-type {\n",
       "        vertical-align: middle;\n",
       "    }\n",
       "\n",
       "    .dataframe tbody tr th {\n",
       "        vertical-align: top;\n",
       "    }\n",
       "\n",
       "    .dataframe thead th {\n",
       "        text-align: right;\n",
       "    }\n",
       "</style>\n",
       "<table border=\"1\" class=\"dataframe\">\n",
       "  <thead>\n",
       "    <tr style=\"text-align: right;\">\n",
       "      <th></th>\n",
       "      <th>course_id</th>\n",
       "      <th>course_title</th>\n",
       "      <th>is_paid</th>\n",
       "      <th>price</th>\n",
       "      <th>num_subscribers</th>\n",
       "      <th>num_reviews</th>\n",
       "      <th>num_lectures</th>\n",
       "      <th>level</th>\n",
       "      <th>content_duration</th>\n",
       "      <th>published_timestamp</th>\n",
       "      <th>subject</th>\n",
       "      <th>year</th>\n",
       "      <th>month</th>\n",
       "    </tr>\n",
       "  </thead>\n",
       "  <tbody>\n",
       "    <tr>\n",
       "      <th>0</th>\n",
       "      <td>288942</td>\n",
       "      <td>#1 Piano Hand Coordination: Play 10th Ballad i...</td>\n",
       "      <td>True</td>\n",
       "      <td>35</td>\n",
       "      <td>3137</td>\n",
       "      <td>18</td>\n",
       "      <td>68</td>\n",
       "      <td>All Levels</td>\n",
       "      <td>1.5 hours</td>\n",
       "      <td>2014-09-18 05:07:05+00:00</td>\n",
       "      <td>Musical Instruments</td>\n",
       "      <td>2014</td>\n",
       "      <td>9</td>\n",
       "    </tr>\n",
       "  </tbody>\n",
       "</table>\n",
       "</div>"
      ],
      "text/plain": [
       "   course_id                                       course_title  is_paid  \\\n",
       "0     288942  #1 Piano Hand Coordination: Play 10th Ballad i...     True   \n",
       "\n",
       "  price  num_subscribers  num_reviews  num_lectures       level  \\\n",
       "0    35             3137           18            68  All Levels   \n",
       "\n",
       "  content_duration       published_timestamp              subject  year  month  \n",
       "0        1.5 hours 2014-09-18 05:07:05+00:00  Musical Instruments  2014      9  "
      ]
     },
     "execution_count": 26,
     "metadata": {},
     "output_type": "execute_result"
    }
   ],
   "source": [
    "df.head(1)"
   ]
  },
  {
   "cell_type": "code",
   "execution_count": 27,
   "id": "f507a1e7",
   "metadata": {},
   "outputs": [
    {
     "data": {
      "text/html": [
       "<div>\n",
       "<style scoped>\n",
       "    .dataframe tbody tr th:only-of-type {\n",
       "        vertical-align: middle;\n",
       "    }\n",
       "\n",
       "    .dataframe tbody tr th {\n",
       "        vertical-align: top;\n",
       "    }\n",
       "\n",
       "    .dataframe thead th {\n",
       "        text-align: right;\n",
       "    }\n",
       "</style>\n",
       "<table border=\"1\" class=\"dataframe\">\n",
       "  <thead>\n",
       "    <tr style=\"text-align: right;\">\n",
       "      <th></th>\n",
       "      <th>course_id</th>\n",
       "      <th>course_title</th>\n",
       "      <th>is_paid</th>\n",
       "      <th>price</th>\n",
       "      <th>num_subscribers</th>\n",
       "      <th>num_reviews</th>\n",
       "      <th>num_lectures</th>\n",
       "      <th>level</th>\n",
       "      <th>content_duration</th>\n",
       "      <th>published_timestamp</th>\n",
       "      <th>subject</th>\n",
       "      <th>year</th>\n",
       "      <th>month</th>\n",
       "    </tr>\n",
       "  </thead>\n",
       "  <tbody>\n",
       "    <tr>\n",
       "      <th>216</th>\n",
       "      <td>599504</td>\n",
       "      <td>Advanced Scalable Python Web Development Using...</td>\n",
       "      <td>True</td>\n",
       "      <td>120</td>\n",
       "      <td>1299</td>\n",
       "      <td>56</td>\n",
       "      <td>71</td>\n",
       "      <td>Intermediate Level</td>\n",
       "      <td>14 hours</td>\n",
       "      <td>2016-08-11 22:09:24+00:00</td>\n",
       "      <td>Web Development</td>\n",
       "      <td>2016</td>\n",
       "      <td>8</td>\n",
       "    </tr>\n",
       "    <tr>\n",
       "      <th>777</th>\n",
       "      <td>47963</td>\n",
       "      <td>Coding for Entrepreneurs: Learn Python, Django...</td>\n",
       "      <td>True</td>\n",
       "      <td>195</td>\n",
       "      <td>23412</td>\n",
       "      <td>799</td>\n",
       "      <td>251</td>\n",
       "      <td>All Levels</td>\n",
       "      <td>45 hours</td>\n",
       "      <td>2013-04-08 00:46:14+00:00</td>\n",
       "      <td>Web Development</td>\n",
       "      <td>2013</td>\n",
       "      <td>4</td>\n",
       "    </tr>\n",
       "    <tr>\n",
       "      <th>814</th>\n",
       "      <td>631128</td>\n",
       "      <td>Complete Python Web Course: Build 8 Python Web...</td>\n",
       "      <td>True</td>\n",
       "      <td>110</td>\n",
       "      <td>7489</td>\n",
       "      <td>941</td>\n",
       "      <td>173</td>\n",
       "      <td>All Levels</td>\n",
       "      <td>16 hours</td>\n",
       "      <td>2015-11-08 20:57:35+00:00</td>\n",
       "      <td>Web Development</td>\n",
       "      <td>2015</td>\n",
       "      <td>11</td>\n",
       "    </tr>\n",
       "    <tr>\n",
       "      <th>842</th>\n",
       "      <td>186096</td>\n",
       "      <td>Core: A Web App Reference Guide for Django, Py...</td>\n",
       "      <td>True</td>\n",
       "      <td>195</td>\n",
       "      <td>2497</td>\n",
       "      <td>98</td>\n",
       "      <td>154</td>\n",
       "      <td>All Levels</td>\n",
       "      <td>26 hours</td>\n",
       "      <td>2014-05-29 00:58:43+00:00</td>\n",
       "      <td>Web Development</td>\n",
       "      <td>2014</td>\n",
       "      <td>5</td>\n",
       "    </tr>\n",
       "    <tr>\n",
       "      <th>1400</th>\n",
       "      <td>394832</td>\n",
       "      <td>Fun and creative web engineering with Python a...</td>\n",
       "      <td>False</td>\n",
       "      <td>Free</td>\n",
       "      <td>10917</td>\n",
       "      <td>319</td>\n",
       "      <td>25</td>\n",
       "      <td>All Levels</td>\n",
       "      <td>2 hours</td>\n",
       "      <td>2015-06-09 19:51:50+00:00</td>\n",
       "      <td>Web Development</td>\n",
       "      <td>2015</td>\n",
       "      <td>6</td>\n",
       "    </tr>\n",
       "    <tr>\n",
       "      <th>1932</th>\n",
       "      <td>1038538</td>\n",
       "      <td>Introduction to QGIS Python Programming</td>\n",
       "      <td>True</td>\n",
       "      <td>85</td>\n",
       "      <td>197</td>\n",
       "      <td>26</td>\n",
       "      <td>28</td>\n",
       "      <td>Beginner Level</td>\n",
       "      <td>3.5 hours</td>\n",
       "      <td>2016-12-22 00:11:22+00:00</td>\n",
       "      <td>Web Development</td>\n",
       "      <td>2016</td>\n",
       "      <td>12</td>\n",
       "    </tr>\n",
       "    <tr>\n",
       "      <th>1969</th>\n",
       "      <td>902888</td>\n",
       "      <td>Investment Portfolio Analysis with Python</td>\n",
       "      <td>True</td>\n",
       "      <td>50</td>\n",
       "      <td>209</td>\n",
       "      <td>13</td>\n",
       "      <td>37</td>\n",
       "      <td>All Levels</td>\n",
       "      <td>7 hours</td>\n",
       "      <td>2016-07-13 21:40:32+00:00</td>\n",
       "      <td>Business Finance</td>\n",
       "      <td>2016</td>\n",
       "      <td>7</td>\n",
       "    </tr>\n",
       "    <tr>\n",
       "      <th>2294</th>\n",
       "      <td>391546</td>\n",
       "      <td>Learn Python and Django: Payment Processing</td>\n",
       "      <td>True</td>\n",
       "      <td>70</td>\n",
       "      <td>17714</td>\n",
       "      <td>198</td>\n",
       "      <td>23</td>\n",
       "      <td>All Levels</td>\n",
       "      <td>3.5 hours</td>\n",
       "      <td>2015-02-09 15:37:56+00:00</td>\n",
       "      <td>Web Development</td>\n",
       "      <td>2015</td>\n",
       "      <td>2</td>\n",
       "    </tr>\n",
       "    <tr>\n",
       "      <th>2295</th>\n",
       "      <td>1063722</td>\n",
       "      <td>Learn Python Django - A Hands-On Course</td>\n",
       "      <td>True</td>\n",
       "      <td>50</td>\n",
       "      <td>1339</td>\n",
       "      <td>21</td>\n",
       "      <td>18</td>\n",
       "      <td>Beginner Level</td>\n",
       "      <td>2 hours</td>\n",
       "      <td>2017-01-18 21:53:34+00:00</td>\n",
       "      <td>Web Development</td>\n",
       "      <td>2017</td>\n",
       "      <td>1</td>\n",
       "    </tr>\n",
       "    <tr>\n",
       "      <th>2341</th>\n",
       "      <td>546848</td>\n",
       "      <td>Learn to code in Python and learn Adobe Photos...</td>\n",
       "      <td>True</td>\n",
       "      <td>50</td>\n",
       "      <td>1132</td>\n",
       "      <td>1</td>\n",
       "      <td>29</td>\n",
       "      <td>All Levels</td>\n",
       "      <td>2 hours</td>\n",
       "      <td>2015-07-08 00:15:12+00:00</td>\n",
       "      <td>Graphic Design</td>\n",
       "      <td>2015</td>\n",
       "      <td>7</td>\n",
       "    </tr>\n",
       "    <tr>\n",
       "      <th>2906</th>\n",
       "      <td>368340</td>\n",
       "      <td>Professional Python Web Development Using Flask</td>\n",
       "      <td>True</td>\n",
       "      <td>120</td>\n",
       "      <td>3420</td>\n",
       "      <td>489</td>\n",
       "      <td>102</td>\n",
       "      <td>Beginner Level</td>\n",
       "      <td>14.5 hours</td>\n",
       "      <td>2015-03-04 00:10:36+00:00</td>\n",
       "      <td>Web Development</td>\n",
       "      <td>2015</td>\n",
       "      <td>3</td>\n",
       "    </tr>\n",
       "    <tr>\n",
       "      <th>2908</th>\n",
       "      <td>1035940</td>\n",
       "      <td>Professional RESTful API Design using Python F...</td>\n",
       "      <td>True</td>\n",
       "      <td>120</td>\n",
       "      <td>578</td>\n",
       "      <td>25</td>\n",
       "      <td>36</td>\n",
       "      <td>Intermediate Level</td>\n",
       "      <td>4.5 hours</td>\n",
       "      <td>2017-01-11 21:15:25+00:00</td>\n",
       "      <td>Web Development</td>\n",
       "      <td>2017</td>\n",
       "      <td>1</td>\n",
       "    </tr>\n",
       "    <tr>\n",
       "      <th>2929</th>\n",
       "      <td>270808</td>\n",
       "      <td>Projects in Django and Python</td>\n",
       "      <td>True</td>\n",
       "      <td>60</td>\n",
       "      <td>1764</td>\n",
       "      <td>53</td>\n",
       "      <td>28</td>\n",
       "      <td>All Levels</td>\n",
       "      <td>6.5 hours</td>\n",
       "      <td>2014-10-21 07:58:07+00:00</td>\n",
       "      <td>Web Development</td>\n",
       "      <td>2014</td>\n",
       "      <td>10</td>\n",
       "    </tr>\n",
       "    <tr>\n",
       "      <th>2952</th>\n",
       "      <td>1170894</td>\n",
       "      <td>Python Algo Stock Trading: Automate Your Trading!</td>\n",
       "      <td>True</td>\n",
       "      <td>95</td>\n",
       "      <td>1165</td>\n",
       "      <td>21</td>\n",
       "      <td>41</td>\n",
       "      <td>Beginner Level</td>\n",
       "      <td>2.5 hours</td>\n",
       "      <td>2017-05-28 23:41:03+00:00</td>\n",
       "      <td>Business Finance</td>\n",
       "      <td>2017</td>\n",
       "      <td>5</td>\n",
       "    </tr>\n",
       "    <tr>\n",
       "      <th>2953</th>\n",
       "      <td>1070886</td>\n",
       "      <td>Python Algo Trading: FX Trading with Oanda</td>\n",
       "      <td>True</td>\n",
       "      <td>200</td>\n",
       "      <td>453</td>\n",
       "      <td>42</td>\n",
       "      <td>33</td>\n",
       "      <td>Intermediate Level</td>\n",
       "      <td>3 hours</td>\n",
       "      <td>2017-03-14 00:39:45+00:00</td>\n",
       "      <td>Business Finance</td>\n",
       "      <td>2017</td>\n",
       "      <td>3</td>\n",
       "    </tr>\n",
       "    <tr>\n",
       "      <th>2954</th>\n",
       "      <td>1196544</td>\n",
       "      <td>Python Algo Trading: Sentiment Trading with News</td>\n",
       "      <td>True</td>\n",
       "      <td>200</td>\n",
       "      <td>294</td>\n",
       "      <td>19</td>\n",
       "      <td>42</td>\n",
       "      <td>All Levels</td>\n",
       "      <td>7 hours</td>\n",
       "      <td>2017-04-28 16:41:44+00:00</td>\n",
       "      <td>Business Finance</td>\n",
       "      <td>2017</td>\n",
       "      <td>4</td>\n",
       "    </tr>\n",
       "    <tr>\n",
       "      <th>2955</th>\n",
       "      <td>822444</td>\n",
       "      <td>Python and Django Full Stack Web Developer Boo...</td>\n",
       "      <td>True</td>\n",
       "      <td>200</td>\n",
       "      <td>11832</td>\n",
       "      <td>1883</td>\n",
       "      <td>191</td>\n",
       "      <td>All Levels</td>\n",
       "      <td>31.5 hours</td>\n",
       "      <td>2017-02-24 18:40:55+00:00</td>\n",
       "      <td>Web Development</td>\n",
       "      <td>2017</td>\n",
       "      <td>2</td>\n",
       "    </tr>\n",
       "    <tr>\n",
       "      <th>2956</th>\n",
       "      <td>477702</td>\n",
       "      <td>Python for Beginners: Python Programming Langu...</td>\n",
       "      <td>True</td>\n",
       "      <td>150</td>\n",
       "      <td>6153</td>\n",
       "      <td>125</td>\n",
       "      <td>84</td>\n",
       "      <td>Beginner Level</td>\n",
       "      <td>5 hours</td>\n",
       "      <td>2015-06-14 18:18:57+00:00</td>\n",
       "      <td>Web Development</td>\n",
       "      <td>2015</td>\n",
       "      <td>6</td>\n",
       "    </tr>\n",
       "    <tr>\n",
       "      <th>2957</th>\n",
       "      <td>1035472</td>\n",
       "      <td>Python for Finance: Investment Fundamentals &amp; ...</td>\n",
       "      <td>True</td>\n",
       "      <td>195</td>\n",
       "      <td>3811</td>\n",
       "      <td>278</td>\n",
       "      <td>103</td>\n",
       "      <td>All Levels</td>\n",
       "      <td>6.5 hours</td>\n",
       "      <td>2017-03-30 22:17:09+00:00</td>\n",
       "      <td>Business Finance</td>\n",
       "      <td>2017</td>\n",
       "      <td>3</td>\n",
       "    </tr>\n",
       "    <tr>\n",
       "      <th>2958</th>\n",
       "      <td>529828</td>\n",
       "      <td>Python for Trading &amp; Investing</td>\n",
       "      <td>True</td>\n",
       "      <td>95</td>\n",
       "      <td>638</td>\n",
       "      <td>25</td>\n",
       "      <td>36</td>\n",
       "      <td>All Levels</td>\n",
       "      <td>5 hours</td>\n",
       "      <td>2015-06-17 22:23:31+00:00</td>\n",
       "      <td>Business Finance</td>\n",
       "      <td>2015</td>\n",
       "      <td>6</td>\n",
       "    </tr>\n",
       "    <tr>\n",
       "      <th>2959</th>\n",
       "      <td>70640</td>\n",
       "      <td>Python Programming: Create an Digital Marketpl...</td>\n",
       "      <td>True</td>\n",
       "      <td>195</td>\n",
       "      <td>4198</td>\n",
       "      <td>145</td>\n",
       "      <td>161</td>\n",
       "      <td>All Levels</td>\n",
       "      <td>26 hours</td>\n",
       "      <td>2013-10-20 19:53:28+00:00</td>\n",
       "      <td>Web Development</td>\n",
       "      <td>2013</td>\n",
       "      <td>10</td>\n",
       "    </tr>\n",
       "    <tr>\n",
       "      <th>2960</th>\n",
       "      <td>523312</td>\n",
       "      <td>Python Web Programming</td>\n",
       "      <td>True</td>\n",
       "      <td>100</td>\n",
       "      <td>1020</td>\n",
       "      <td>46</td>\n",
       "      <td>60</td>\n",
       "      <td>Beginner Level</td>\n",
       "      <td>6 hours</td>\n",
       "      <td>2015-07-01 21:46:36+00:00</td>\n",
       "      <td>Web Development</td>\n",
       "      <td>2015</td>\n",
       "      <td>7</td>\n",
       "    </tr>\n",
       "    <tr>\n",
       "      <th>2962</th>\n",
       "      <td>1088656</td>\n",
       "      <td>Quantitative Trading Analysis with Python</td>\n",
       "      <td>True</td>\n",
       "      <td>50</td>\n",
       "      <td>256</td>\n",
       "      <td>17</td>\n",
       "      <td>49</td>\n",
       "      <td>All Levels</td>\n",
       "      <td>5.5 hours</td>\n",
       "      <td>2017-01-27 17:11:28+00:00</td>\n",
       "      <td>Business Finance</td>\n",
       "      <td>2017</td>\n",
       "      <td>1</td>\n",
       "    </tr>\n",
       "    <tr>\n",
       "      <th>3013</th>\n",
       "      <td>970600</td>\n",
       "      <td>REST APIs with Flask and Python</td>\n",
       "      <td>True</td>\n",
       "      <td>110</td>\n",
       "      <td>5151</td>\n",
       "      <td>737</td>\n",
       "      <td>115</td>\n",
       "      <td>Intermediate Level</td>\n",
       "      <td>12.5 hours</td>\n",
       "      <td>2016-11-06 19:00:38+00:00</td>\n",
       "      <td>Web Development</td>\n",
       "      <td>2016</td>\n",
       "      <td>11</td>\n",
       "    </tr>\n",
       "    <tr>\n",
       "      <th>3154</th>\n",
       "      <td>815482</td>\n",
       "      <td>Stock Technical Analysis with Python</td>\n",
       "      <td>True</td>\n",
       "      <td>50</td>\n",
       "      <td>409</td>\n",
       "      <td>35</td>\n",
       "      <td>46</td>\n",
       "      <td>All Levels</td>\n",
       "      <td>8 hours</td>\n",
       "      <td>2016-04-12 00:40:03+00:00</td>\n",
       "      <td>Business Finance</td>\n",
       "      <td>2016</td>\n",
       "      <td>4</td>\n",
       "    </tr>\n",
       "    <tr>\n",
       "      <th>3272</th>\n",
       "      <td>938560</td>\n",
       "      <td>The Complete Ethical Hacking Course 2.0: Pytho...</td>\n",
       "      <td>True</td>\n",
       "      <td>195</td>\n",
       "      <td>7827</td>\n",
       "      <td>268</td>\n",
       "      <td>66</td>\n",
       "      <td>All Levels</td>\n",
       "      <td>11 hours</td>\n",
       "      <td>2016-09-26 15:08:29+00:00</td>\n",
       "      <td>Web Development</td>\n",
       "      <td>2016</td>\n",
       "      <td>9</td>\n",
       "    </tr>\n",
       "    <tr>\n",
       "      <th>3460</th>\n",
       "      <td>76052</td>\n",
       "      <td>Try Django 1.9 | Build a Blog and Learn Python...</td>\n",
       "      <td>True</td>\n",
       "      <td>50</td>\n",
       "      <td>7407</td>\n",
       "      <td>172</td>\n",
       "      <td>147</td>\n",
       "      <td>All Levels</td>\n",
       "      <td>20 hours</td>\n",
       "      <td>2014-03-04 07:12:21+00:00</td>\n",
       "      <td>Web Development</td>\n",
       "      <td>2014</td>\n",
       "      <td>3</td>\n",
       "    </tr>\n",
       "    <tr>\n",
       "      <th>3573</th>\n",
       "      <td>16646</td>\n",
       "      <td>Web Programming with Python</td>\n",
       "      <td>True</td>\n",
       "      <td>50</td>\n",
       "      <td>35267</td>\n",
       "      <td>217</td>\n",
       "      <td>53</td>\n",
       "      <td>All Levels</td>\n",
       "      <td>4 hours</td>\n",
       "      <td>2012-04-25 00:01:43+00:00</td>\n",
       "      <td>Web Development</td>\n",
       "      <td>2012</td>\n",
       "      <td>4</td>\n",
       "    </tr>\n",
       "    <tr>\n",
       "      <th>3574</th>\n",
       "      <td>574082</td>\n",
       "      <td>Web Scraping with Python, Ruby &amp; import. io</td>\n",
       "      <td>True</td>\n",
       "      <td>75</td>\n",
       "      <td>973</td>\n",
       "      <td>50</td>\n",
       "      <td>46</td>\n",
       "      <td>All Levels</td>\n",
       "      <td>4.5 hours</td>\n",
       "      <td>2015-08-09 22:16:41+00:00</td>\n",
       "      <td>Web Development</td>\n",
       "      <td>2015</td>\n",
       "      <td>8</td>\n",
       "    </tr>\n",
       "  </tbody>\n",
       "</table>\n",
       "</div>"
      ],
      "text/plain": [
       "      course_id                                       course_title  is_paid  \\\n",
       "216      599504  Advanced Scalable Python Web Development Using...     True   \n",
       "777       47963  Coding for Entrepreneurs: Learn Python, Django...     True   \n",
       "814      631128  Complete Python Web Course: Build 8 Python Web...     True   \n",
       "842      186096  Core: A Web App Reference Guide for Django, Py...     True   \n",
       "1400     394832  Fun and creative web engineering with Python a...    False   \n",
       "1932    1038538            Introduction to QGIS Python Programming     True   \n",
       "1969     902888          Investment Portfolio Analysis with Python     True   \n",
       "2294     391546        Learn Python and Django: Payment Processing     True   \n",
       "2295    1063722            Learn Python Django - A Hands-On Course     True   \n",
       "2341     546848  Learn to code in Python and learn Adobe Photos...     True   \n",
       "2906     368340    Professional Python Web Development Using Flask     True   \n",
       "2908    1035940  Professional RESTful API Design using Python F...     True   \n",
       "2929     270808                      Projects in Django and Python     True   \n",
       "2952    1170894  Python Algo Stock Trading: Automate Your Trading!     True   \n",
       "2953    1070886         Python Algo Trading: FX Trading with Oanda     True   \n",
       "2954    1196544   Python Algo Trading: Sentiment Trading with News     True   \n",
       "2955     822444  Python and Django Full Stack Web Developer Boo...     True   \n",
       "2956     477702  Python for Beginners: Python Programming Langu...     True   \n",
       "2957    1035472  Python for Finance: Investment Fundamentals & ...     True   \n",
       "2958     529828                     Python for Trading & Investing     True   \n",
       "2959      70640  Python Programming: Create an Digital Marketpl...     True   \n",
       "2960     523312                             Python Web Programming     True   \n",
       "2962    1088656          Quantitative Trading Analysis with Python     True   \n",
       "3013     970600                    REST APIs with Flask and Python     True   \n",
       "3154     815482               Stock Technical Analysis with Python     True   \n",
       "3272     938560  The Complete Ethical Hacking Course 2.0: Pytho...     True   \n",
       "3460      76052  Try Django 1.9 | Build a Blog and Learn Python...     True   \n",
       "3573      16646                        Web Programming with Python     True   \n",
       "3574     574082        Web Scraping with Python, Ruby & import. io     True   \n",
       "\n",
       "     price  num_subscribers  num_reviews  num_lectures               level  \\\n",
       "216    120             1299           56            71  Intermediate Level   \n",
       "777    195            23412          799           251          All Levels   \n",
       "814    110             7489          941           173          All Levels   \n",
       "842    195             2497           98           154          All Levels   \n",
       "1400  Free            10917          319            25          All Levels   \n",
       "1932    85              197           26            28      Beginner Level   \n",
       "1969    50              209           13            37          All Levels   \n",
       "2294    70            17714          198            23          All Levels   \n",
       "2295    50             1339           21            18      Beginner Level   \n",
       "2341    50             1132            1            29          All Levels   \n",
       "2906   120             3420          489           102      Beginner Level   \n",
       "2908   120              578           25            36  Intermediate Level   \n",
       "2929    60             1764           53            28          All Levels   \n",
       "2952    95             1165           21            41      Beginner Level   \n",
       "2953   200              453           42            33  Intermediate Level   \n",
       "2954   200              294           19            42          All Levels   \n",
       "2955   200            11832         1883           191          All Levels   \n",
       "2956   150             6153          125            84      Beginner Level   \n",
       "2957   195             3811          278           103          All Levels   \n",
       "2958    95              638           25            36          All Levels   \n",
       "2959   195             4198          145           161          All Levels   \n",
       "2960   100             1020           46            60      Beginner Level   \n",
       "2962    50              256           17            49          All Levels   \n",
       "3013   110             5151          737           115  Intermediate Level   \n",
       "3154    50              409           35            46          All Levels   \n",
       "3272   195             7827          268            66          All Levels   \n",
       "3460    50             7407          172           147          All Levels   \n",
       "3573    50            35267          217            53          All Levels   \n",
       "3574    75              973           50            46          All Levels   \n",
       "\n",
       "     content_duration       published_timestamp           subject  year  month  \n",
       "216          14 hours 2016-08-11 22:09:24+00:00   Web Development  2016      8  \n",
       "777          45 hours 2013-04-08 00:46:14+00:00   Web Development  2013      4  \n",
       "814          16 hours 2015-11-08 20:57:35+00:00   Web Development  2015     11  \n",
       "842          26 hours 2014-05-29 00:58:43+00:00   Web Development  2014      5  \n",
       "1400          2 hours 2015-06-09 19:51:50+00:00   Web Development  2015      6  \n",
       "1932        3.5 hours 2016-12-22 00:11:22+00:00   Web Development  2016     12  \n",
       "1969          7 hours 2016-07-13 21:40:32+00:00  Business Finance  2016      7  \n",
       "2294        3.5 hours 2015-02-09 15:37:56+00:00   Web Development  2015      2  \n",
       "2295          2 hours 2017-01-18 21:53:34+00:00   Web Development  2017      1  \n",
       "2341          2 hours 2015-07-08 00:15:12+00:00    Graphic Design  2015      7  \n",
       "2906       14.5 hours 2015-03-04 00:10:36+00:00   Web Development  2015      3  \n",
       "2908        4.5 hours 2017-01-11 21:15:25+00:00   Web Development  2017      1  \n",
       "2929        6.5 hours 2014-10-21 07:58:07+00:00   Web Development  2014     10  \n",
       "2952        2.5 hours 2017-05-28 23:41:03+00:00  Business Finance  2017      5  \n",
       "2953          3 hours 2017-03-14 00:39:45+00:00  Business Finance  2017      3  \n",
       "2954          7 hours 2017-04-28 16:41:44+00:00  Business Finance  2017      4  \n",
       "2955       31.5 hours 2017-02-24 18:40:55+00:00   Web Development  2017      2  \n",
       "2956          5 hours 2015-06-14 18:18:57+00:00   Web Development  2015      6  \n",
       "2957        6.5 hours 2017-03-30 22:17:09+00:00  Business Finance  2017      3  \n",
       "2958          5 hours 2015-06-17 22:23:31+00:00  Business Finance  2015      6  \n",
       "2959         26 hours 2013-10-20 19:53:28+00:00   Web Development  2013     10  \n",
       "2960          6 hours 2015-07-01 21:46:36+00:00   Web Development  2015      7  \n",
       "2962        5.5 hours 2017-01-27 17:11:28+00:00  Business Finance  2017      1  \n",
       "3013       12.5 hours 2016-11-06 19:00:38+00:00   Web Development  2016     11  \n",
       "3154          8 hours 2016-04-12 00:40:03+00:00  Business Finance  2016      4  \n",
       "3272         11 hours 2016-09-26 15:08:29+00:00   Web Development  2016      9  \n",
       "3460         20 hours 2014-03-04 07:12:21+00:00   Web Development  2014      3  \n",
       "3573          4 hours 2012-04-25 00:01:43+00:00   Web Development  2012      4  \n",
       "3574        4.5 hours 2015-08-09 22:16:41+00:00   Web Development  2015      8  "
      ]
     },
     "execution_count": 27,
     "metadata": {},
     "output_type": "execute_result"
    }
   ],
   "source": [
    "python = df[df['course_title'].str.contains('Python')]\n",
    "python"
   ]
  },
  {
   "cell_type": "code",
   "execution_count": 28,
   "id": "1413e369",
   "metadata": {},
   "outputs": [
    {
     "data": {
      "text/plain": [
       "29"
      ]
     },
     "execution_count": 28,
     "metadata": {},
     "output_type": "execute_result"
    }
   ],
   "source": [
    "len(python)"
   ]
  },
  {
   "cell_type": "markdown",
   "id": "19bc1f39",
   "metadata": {},
   "source": [
    ">There is 29 courses related to python."
   ]
  },
  {
   "cell_type": "markdown",
   "id": "a4d4c6ce",
   "metadata": {},
   "source": [
    "# Q6: What are most subscribed courses that published in 2015?"
   ]
  },
  {
   "cell_type": "code",
   "execution_count": 29,
   "id": "3c37e7c7",
   "metadata": {},
   "outputs": [
    {
     "data": {
      "text/html": [
       "<div>\n",
       "<style scoped>\n",
       "    .dataframe tbody tr th:only-of-type {\n",
       "        vertical-align: middle;\n",
       "    }\n",
       "\n",
       "    .dataframe tbody tr th {\n",
       "        vertical-align: top;\n",
       "    }\n",
       "\n",
       "    .dataframe thead th {\n",
       "        text-align: right;\n",
       "    }\n",
       "</style>\n",
       "<table border=\"1\" class=\"dataframe\">\n",
       "  <thead>\n",
       "    <tr style=\"text-align: right;\">\n",
       "      <th></th>\n",
       "      <th>course_id</th>\n",
       "      <th>course_title</th>\n",
       "      <th>is_paid</th>\n",
       "      <th>price</th>\n",
       "      <th>num_subscribers</th>\n",
       "      <th>num_reviews</th>\n",
       "      <th>num_lectures</th>\n",
       "      <th>level</th>\n",
       "      <th>content_duration</th>\n",
       "      <th>published_timestamp</th>\n",
       "      <th>subject</th>\n",
       "      <th>year</th>\n",
       "      <th>month</th>\n",
       "    </tr>\n",
       "  </thead>\n",
       "  <tbody>\n",
       "    <tr>\n",
       "      <th>0</th>\n",
       "      <td>288942</td>\n",
       "      <td>#1 Piano Hand Coordination: Play 10th Ballad i...</td>\n",
       "      <td>True</td>\n",
       "      <td>35</td>\n",
       "      <td>3137</td>\n",
       "      <td>18</td>\n",
       "      <td>68</td>\n",
       "      <td>All Levels</td>\n",
       "      <td>1.5 hours</td>\n",
       "      <td>2014-09-18 05:07:05+00:00</td>\n",
       "      <td>Musical Instruments</td>\n",
       "      <td>2014</td>\n",
       "      <td>9</td>\n",
       "    </tr>\n",
       "  </tbody>\n",
       "</table>\n",
       "</div>"
      ],
      "text/plain": [
       "   course_id                                       course_title  is_paid  \\\n",
       "0     288942  #1 Piano Hand Coordination: Play 10th Ballad i...     True   \n",
       "\n",
       "  price  num_subscribers  num_reviews  num_lectures       level  \\\n",
       "0    35             3137           18            68  All Levels   \n",
       "\n",
       "  content_duration       published_timestamp              subject  year  month  \n",
       "0        1.5 hours 2014-09-18 05:07:05+00:00  Musical Instruments  2014      9  "
      ]
     },
     "execution_count": 29,
     "metadata": {},
     "output_type": "execute_result"
    }
   ],
   "source": [
    "df.head(1)"
   ]
  },
  {
   "cell_type": "code",
   "execution_count": 30,
   "id": "56df60c6",
   "metadata": {},
   "outputs": [],
   "source": [
    "year_15 = df.query('year == 2015')"
   ]
  },
  {
   "cell_type": "code",
   "execution_count": 31,
   "id": "4b45f964",
   "metadata": {},
   "outputs": [
    {
     "data": {
      "text/plain": [
       "course_title\n",
       "The Web Developer Bootcamp                                      121584\n",
       "Web Design for Web Developers: Build Beautiful Websites!         98867\n",
       "JavaScript: Understanding the Weird Parts                        79612\n",
       "HTML and CSS for Beginners - Build a Website & Launch ONLINE     70773\n",
       "Learn and Understand NodeJS                                      58208\n",
       "The Complete HTML & CSS Course - From Novice To Professional     57422\n",
       "Complete PHP Course With Bootstrap3 CMS System & Admin Panel     55332\n",
       "Modern React with Redux                                          50815\n",
       "Professional Logo Design in Adobe Illustrator                    44044\n",
       "Build Responsive Real World Websites with HTML5 and CSS3         43977\n",
       "Bootstrap 4 Quick Start: Code Modern Responsive Websites         41478\n",
       "Ultimate Web Designer & Developer Course: Build 23 Projects!     33788\n",
       "The Complete Ruby on Rails Developer Course                      33677\n",
       "The Complete JavaScript Course For Web Development Beginners     31499\n",
       "AngularJS For Beginners                                          30531\n",
       "PHP for Beginners -Become a PHP Master - Project Included        28880\n",
       "Essentials of JavaScript Practice Coding Exercises Tips          28125\n",
       "EMMET Faster HTML & CSS workflow - Best Tool For Developers      26697\n",
       "Master the Basics of HTML5 & CSS3: Beginner Web Development      26541\n",
       "Logo Designing for Your Business in an Hour                      25277\n",
       "Name: num_subscribers, dtype: int64"
      ]
     },
     "execution_count": 31,
     "metadata": {},
     "output_type": "execute_result"
    }
   ],
   "source": [
    "courses_15 = year_15.groupby('course_title')['num_subscribers'].sum().sort_values(ascending = False).head(20)\n",
    "courses_15"
   ]
  },
  {
   "cell_type": "code",
   "execution_count": 32,
   "id": "fe7e65c3",
   "metadata": {},
   "outputs": [
    {
     "data": {
      "image/png": "[encoded data removed]",
      "text/plain": [
       "<Figure size 1440x1152 with 1 Axes>"
      ]
     },
     "metadata": {},
     "output_type": "display_data"
    }
   ],
   "source": [
    "plt.figure(figsize=(20,16))\n",
    "sns.barplot(x = courses_15, \n",
    "            y = courses_15.index,\n",
    "            palette = 'Set2')\n",
    "plt.title('Most subscribed courses in 2015', fontsize = 24, weight = 'bold')\n",
    "plt.xlabel('Num of subscribers',fontsize = 18, weight = 'bold')\n",
    "plt.ylabel('Course title',fontsize = 18, weight = 'bold')\n",
    "plt.show();"
   ]
  },
  {
   "cell_type": "markdown",
   "id": "3656bb7b",
   "metadata": {},
   "source": [
    ">In 2015, Free Beginner Electric Guitar Lessons had 101154 subscribers."
   ]
  },
  {
   "cell_type": "markdown",
   "id": "3db031ce",
   "metadata": {},
   "source": [
    "# Q7: What are the max number of subscribers for each level of courses"
   ]
  },
  {
   "cell_type": "code",
   "execution_count": 33,
   "id": "c5935889",
   "metadata": {},
   "outputs": [
    {
     "data": {
      "text/html": [
       "<div>\n",
       "<style scoped>\n",
       "    .dataframe tbody tr th:only-of-type {\n",
       "        vertical-align: middle;\n",
       "    }\n",
       "\n",
       "    .dataframe tbody tr th {\n",
       "        vertical-align: top;\n",
       "    }\n",
       "\n",
       "    .dataframe thead th {\n",
       "        text-align: right;\n",
       "    }\n",
       "</style>\n",
       "<table border=\"1\" class=\"dataframe\">\n",
       "  <thead>\n",
       "    <tr style=\"text-align: right;\">\n",
       "      <th></th>\n",
       "      <th>course_id</th>\n",
       "      <th>course_title</th>\n",
       "      <th>is_paid</th>\n",
       "      <th>price</th>\n",
       "      <th>num_subscribers</th>\n",
       "      <th>num_reviews</th>\n",
       "      <th>num_lectures</th>\n",
       "      <th>level</th>\n",
       "      <th>content_duration</th>\n",
       "      <th>published_timestamp</th>\n",
       "      <th>subject</th>\n",
       "      <th>year</th>\n",
       "      <th>month</th>\n",
       "    </tr>\n",
       "  </thead>\n",
       "  <tbody>\n",
       "    <tr>\n",
       "      <th>0</th>\n",
       "      <td>288942</td>\n",
       "      <td>#1 Piano Hand Coordination: Play 10th Ballad i...</td>\n",
       "      <td>True</td>\n",
       "      <td>35</td>\n",
       "      <td>3137</td>\n",
       "      <td>18</td>\n",
       "      <td>68</td>\n",
       "      <td>All Levels</td>\n",
       "      <td>1.5 hours</td>\n",
       "      <td>2014-09-18 05:07:05+00:00</td>\n",
       "      <td>Musical Instruments</td>\n",
       "      <td>2014</td>\n",
       "      <td>9</td>\n",
       "    </tr>\n",
       "  </tbody>\n",
       "</table>\n",
       "</div>"
      ],
      "text/plain": [
       "   course_id                                       course_title  is_paid  \\\n",
       "0     288942  #1 Piano Hand Coordination: Play 10th Ballad i...     True   \n",
       "\n",
       "  price  num_subscribers  num_reviews  num_lectures       level  \\\n",
       "0    35             3137           18            68  All Levels   \n",
       "\n",
       "  content_duration       published_timestamp              subject  year  month  \n",
       "0        1.5 hours 2014-09-18 05:07:05+00:00  Musical Instruments  2014      9  "
      ]
     },
     "execution_count": 33,
     "metadata": {},
     "output_type": "execute_result"
    }
   ],
   "source": [
    "df.head(1)"
   ]
  },
  {
   "cell_type": "code",
   "execution_count": 34,
   "id": "188bbea2",
   "metadata": {},
   "outputs": [
    {
     "data": {
      "text/plain": [
       "level\n",
       "All Levels            268923\n",
       "Beginner Level        161029\n",
       "Intermediate Level     29167\n",
       "Expert Level            5172\n",
       "Name: num_subscribers, dtype: int64"
      ]
     },
     "execution_count": 34,
     "metadata": {},
     "output_type": "execute_result"
    }
   ],
   "source": [
    "levels = df.groupby('level')['num_subscribers'].max().sort_values(ascending = False)\n",
    "levels"
   ]
  },
  {
   "cell_type": "code",
   "execution_count": 35,
   "id": "5c27d802",
   "metadata": {},
   "outputs": [
    {
     "data": {
      "image/png": "[encoded data removed]",
      "text/plain": [
       "<Figure size 1008x576 with 1 Axes>"
      ]
     },
     "metadata": {},
     "output_type": "display_data"
    }
   ],
   "source": [
    "plt.figure(figsize=(14,8))\n",
    "sns.barplot(x = levels, \n",
    "            y = levels.index)\n",
    "plt.title('Max no of subscribers & Levels', fontsize = 24, weight = 'bold')\n",
    "plt.xlabel('Max no of subscribers',fontsize = 18, weight = 'bold')\n",
    "plt.ylabel('Level',fontsize = 18, weight = 'bold')\n",
    "plt.show();"
   ]
  },
  {
   "cell_type": "markdown",
   "id": "687721ff",
   "metadata": {},
   "source": [
    ">All Levels has a maximum subscribers of 268923, while Expert Level has only 5172 maximum subscribers."
   ]
  },
  {
   "cell_type": "code",
   "execution_count": 36,
   "id": "2102f3bc",
   "metadata": {},
   "outputs": [
    {
     "data": {
      "image/png": "[encoded data removed]",
      "text/plain": [
       "<Figure size 1152x576 with 1 Axes>"
      ]
     },
     "metadata": {},
     "output_type": "display_data"
    }
   ],
   "source": [
    "plt.figure(figsize=(16,8))\n",
    "plt.pie(levels, labels=levels.index, autopct= '%.2f%%',\n",
    "        textprops= {'size':'x-large',\n",
    "                    'fontweight': 'bold',\n",
    "                    'rotation': \"30\",\n",
    "                    'color':'w'})\n",
    "plt.title('Max no of subscribers & Levels', fontsize = 24, fontweight = 'bold')     \n",
    "plt.legend()\n",
    "plt.show()"
   ]
  },
  {
   "cell_type": "code",
   "execution_count": 37,
   "id": "c094e425",
   "metadata": {},
   "outputs": [
    {
     "data": {
      "text/html": [
       "<div>\n",
       "<style scoped>\n",
       "    .dataframe tbody tr th:only-of-type {\n",
       "        vertical-align: middle;\n",
       "    }\n",
       "\n",
       "    .dataframe tbody tr th {\n",
       "        vertical-align: top;\n",
       "    }\n",
       "\n",
       "    .dataframe thead th {\n",
       "        text-align: right;\n",
       "    }\n",
       "</style>\n",
       "<table border=\"1\" class=\"dataframe\">\n",
       "  <thead>\n",
       "    <tr style=\"text-align: right;\">\n",
       "      <th></th>\n",
       "      <th>course_id</th>\n",
       "      <th>course_title</th>\n",
       "      <th>is_paid</th>\n",
       "      <th>price</th>\n",
       "      <th>num_subscribers</th>\n",
       "      <th>num_reviews</th>\n",
       "      <th>num_lectures</th>\n",
       "      <th>level</th>\n",
       "      <th>content_duration</th>\n",
       "      <th>published_timestamp</th>\n",
       "      <th>subject</th>\n",
       "      <th>year</th>\n",
       "      <th>month</th>\n",
       "    </tr>\n",
       "  </thead>\n",
       "  <tbody>\n",
       "    <tr>\n",
       "      <th>0</th>\n",
       "      <td>288942</td>\n",
       "      <td>#1 Piano Hand Coordination: Play 10th Ballad i...</td>\n",
       "      <td>True</td>\n",
       "      <td>35</td>\n",
       "      <td>3137</td>\n",
       "      <td>18</td>\n",
       "      <td>68</td>\n",
       "      <td>All Levels</td>\n",
       "      <td>1.5 hours</td>\n",
       "      <td>2014-09-18 05:07:05+00:00</td>\n",
       "      <td>Musical Instruments</td>\n",
       "      <td>2014</td>\n",
       "      <td>9</td>\n",
       "    </tr>\n",
       "  </tbody>\n",
       "</table>\n",
       "</div>"
      ],
      "text/plain": [
       "   course_id                                       course_title  is_paid  \\\n",
       "0     288942  #1 Piano Hand Coordination: Play 10th Ballad i...     True   \n",
       "\n",
       "  price  num_subscribers  num_reviews  num_lectures       level  \\\n",
       "0    35             3137           18            68  All Levels   \n",
       "\n",
       "  content_duration       published_timestamp              subject  year  month  \n",
       "0        1.5 hours 2014-09-18 05:07:05+00:00  Musical Instruments  2014      9  "
      ]
     },
     "execution_count": 37,
     "metadata": {},
     "output_type": "execute_result"
    }
   ],
   "source": [
    "df.head(1)"
   ]
  },
  {
   "cell_type": "code",
   "execution_count": 38,
   "id": "aea1dc33",
   "metadata": {},
   "outputs": [
    {
     "name": "stdout",
     "output_type": "stream",
     "text": [
      "<class 'pandas.core.frame.DataFrame'>\n",
      "Int64Index: 3676 entries, 0 to 3681\n",
      "Data columns (total 13 columns):\n",
      " #   Column               Non-Null Count  Dtype              \n",
      "---  ------               --------------  -----              \n",
      " 0   course_id            3676 non-null   int64              \n",
      " 1   course_title         3676 non-null   object             \n",
      " 2   is_paid              3676 non-null   bool               \n",
      " 3   price                3676 non-null   object             \n",
      " 4   num_subscribers      3676 non-null   int64              \n",
      " 5   num_reviews          3676 non-null   int64              \n",
      " 6   num_lectures         3676 non-null   int64              \n",
      " 7   level                3676 non-null   object             \n",
      " 8   content_duration     3676 non-null   object             \n",
      " 9   published_timestamp  3676 non-null   datetime64[ns, UTC]\n",
      " 10  subject              3676 non-null   object             \n",
      " 11  year                 3676 non-null   int64              \n",
      " 12  month                3676 non-null   int64              \n",
      "dtypes: bool(1), datetime64[ns, UTC](1), int64(6), object(5)\n",
      "memory usage: 376.9+ KB\n"
     ]
    }
   ],
   "source": [
    "df.info()"
   ]
  },
  {
   "cell_type": "code",
   "execution_count": 39,
   "id": "c14586a1",
   "metadata": {},
   "outputs": [
    {
     "ename": "ValueError",
     "evalue": "Unable to parse string \"Free\" at position 41",
     "output_type": "error",
     "traceback": [
      "\u001b[1;31m---------------------------------------------------------------------------\u001b[0m",
      "\u001b[1;31mValueError\u001b[0m                                Traceback (most recent call last)",
      "\u001b[1;32mpandas\\_libs\\lib.pyx\u001b[0m in \u001b[0;36mpandas._libs.lib.maybe_convert_numeric\u001b[1;34m()\u001b[0m\n",
      "\u001b[1;31mValueError\u001b[0m: Unable to parse string \"Free\"",
      "\nDuring handling of the above exception, another exception occurred:\n",
      "\u001b[1;31mValueError\u001b[0m                                Traceback (most recent call last)",
      "\u001b[1;32m<ipython-input-39-8360daa4602b>\u001b[0m in \u001b[0;36m<module>\u001b[1;34m\u001b[0m\n\u001b[1;32m----> 1\u001b[1;33m \u001b[0mdf\u001b[0m\u001b[1;33m[\u001b[0m\u001b[1;34m'price'\u001b[0m\u001b[1;33m]\u001b[0m \u001b[1;33m=\u001b[0m \u001b[0mpd\u001b[0m\u001b[1;33m.\u001b[0m\u001b[0mto_numeric\u001b[0m\u001b[1;33m(\u001b[0m\u001b[0mdf\u001b[0m\u001b[1;33m[\u001b[0m\u001b[1;34m'price'\u001b[0m\u001b[1;33m]\u001b[0m\u001b[1;33m)\u001b[0m\u001b[1;33m\u001b[0m\u001b[1;33m\u001b[0m\u001b[0m\n\u001b[0m",
      "\u001b[1;32m~\\Downloads\\Anaconda\\lib\\site-packages\\pandas\\core\\tools\\numeric.py\u001b[0m in \u001b[0;36mto_numeric\u001b[1;34m(arg, errors, downcast)\u001b[0m\n\u001b[0;32m    152\u001b[0m         \u001b[0mcoerce_numeric\u001b[0m \u001b[1;33m=\u001b[0m \u001b[0merrors\u001b[0m \u001b[1;32mnot\u001b[0m \u001b[1;32min\u001b[0m \u001b[1;33m(\u001b[0m\u001b[1;34m\"ignore\"\u001b[0m\u001b[1;33m,\u001b[0m \u001b[1;34m\"raise\"\u001b[0m\u001b[1;33m)\u001b[0m\u001b[1;33m\u001b[0m\u001b[1;33m\u001b[0m\u001b[0m\n\u001b[0;32m    153\u001b[0m         \u001b[1;32mtry\u001b[0m\u001b[1;33m:\u001b[0m\u001b[1;33m\u001b[0m\u001b[1;33m\u001b[0m\u001b[0m\n\u001b[1;32m--> 154\u001b[1;33m             values = lib.maybe_convert_numeric(\n\u001b[0m\u001b[0;32m    155\u001b[0m                 \u001b[0mvalues\u001b[0m\u001b[1;33m,\u001b[0m \u001b[0mset\u001b[0m\u001b[1;33m(\u001b[0m\u001b[1;33m)\u001b[0m\u001b[1;33m,\u001b[0m \u001b[0mcoerce_numeric\u001b[0m\u001b[1;33m=\u001b[0m\u001b[0mcoerce_numeric\u001b[0m\u001b[1;33m\u001b[0m\u001b[1;33m\u001b[0m\u001b[0m\n\u001b[0;32m    156\u001b[0m             )\n",
      "\u001b[1;32mpandas\\_libs\\lib.pyx\u001b[0m in \u001b[0;36mpandas._libs.lib.maybe_convert_numeric\u001b[1;34m()\u001b[0m\n",
      "\u001b[1;31mValueError\u001b[0m: Unable to parse string \"Free\" at position 41"
     ]
    }
   ],
   "source": [
    "df['price'] = pd.to_numeric(df['price'])"
   ]
  },
  {
   "cell_type": "markdown",
   "id": "a1bf0d3f",
   "metadata": {},
   "source": [
    ">We should replace \"Free\" in price column with '0'."
   ]
  },
  {
   "cell_type": "code",
   "execution_count": null,
   "id": "43a0bc55",
   "metadata": {},
   "outputs": [],
   "source": [
    "df['price'].replace({'Free' : 0}, inplace = True)"
   ]
  },
  {
   "cell_type": "code",
   "execution_count": null,
   "id": "7cf4cab3",
   "metadata": {},
   "outputs": [],
   "source": [
    "df['price'] = pd.to_numeric(df['price'])"
   ]
  },
  {
   "cell_type": "code",
   "execution_count": null,
   "id": "40c3aabd",
   "metadata": {},
   "outputs": [],
   "source": [
    "df.info()"
   ]
  },
  {
   "cell_type": "markdown",
   "id": "d131fc37",
   "metadata": {},
   "source": [
    "# Q8: Is there a correlation between price and number of subscribers?"
   ]
  },
  {
   "cell_type": "code",
   "execution_count": null,
   "id": "0d41092f",
   "metadata": {},
   "outputs": [],
   "source": [
    "plt.figure(figsize=(14,8))\n",
    "sns.scatterplot(x = 'price',\n",
    "                y = 'num_subscribers',\n",
    "                data = df,\n",
    "                hue = 'subject',\n",
    "                s = 200)\n",
    "plt.title('Distribution of price and num of subscribers', fontsize = 24, weight = 'bold')\n",
    "plt.xlabel('Price', fontsize = 18, weight = 'bold')\n",
    "plt.ylabel('Number of subscribers', fontsize = 18, weight = 'bold')\n",
    "plt.show();"
   ]
  },
  {
   "cell_type": "markdown",
   "id": "368540b6",
   "metadata": {},
   "source": [
    "> If we exclude Free course, Price seems to not have a strong relation with number of subscribers."
   ]
  },
  {
   "cell_type": "markdown",
   "id": "fccac257",
   "metadata": {},
   "source": [
    "# Q9: Is there a correlation between num of lectures and number of subscribers?"
   ]
  },
  {
   "cell_type": "code",
   "execution_count": null,
   "id": "9ff20902",
   "metadata": {},
   "outputs": [],
   "source": [
    "plt.figure(figsize=(14,8))\n",
    "sns.scatterplot(x = 'num_lectures',\n",
    "                y = 'num_subscribers',\n",
    "                data = df,\n",
    "                hue = 'subject',\n",
    "                s = 200)\n",
    "plt.title('Distribution of num of lectures and num of subscribers', fontsize = 24, weight = 'bold')\n",
    "plt.xlabel('Number of lectures', fontsize = 18, weight = 'bold')\n",
    "plt.ylabel('Number of subscribers', fontsize = 18, weight = 'bold')\n",
    "plt.show();"
   ]
  },
  {
   "cell_type": "markdown",
   "id": "a199166e",
   "metadata": {},
   "source": [
    ">Courses that have number of lectures less than 100 have higher number of subscribers."
   ]
  },
  {
   "cell_type": "markdown",
   "id": "c285cf21",
   "metadata": {},
   "source": [
    "# Q10: What is the year of the highest number of subscribers?"
   ]
  },
  {
   "cell_type": "code",
   "execution_count": null,
   "id": "560ccdde",
   "metadata": {},
   "outputs": [],
   "source": [
    "year_sub = df.groupby('year')['num_subscribers'].sum().sort_values(ascending = False)\n",
    "year_sub"
   ]
  },
  {
   "cell_type": "code",
   "execution_count": null,
   "id": "053953a6",
   "metadata": {},
   "outputs": [],
   "source": [
    "plt.figure(figsize=(14,10))\n",
    "sns.barplot(x = year_sub.index,\n",
    "            y = year_sub,\n",
    "            palette = 'Set2')\n",
    "plt.title('Num of subscribers per year', fontsize = 24, weight = 'bold')\n",
    "plt.xlabel('Year', fontsize = 18, weight = 'bold')\n",
    "plt.ylabel('Number of subscribers per million', fontsize = 18, weight = 'bold')\n",
    "plt.show();"
   ]
  },
  {
   "cell_type": "markdown",
   "id": "b70d970d",
   "metadata": {},
   "source": [
    ">In 2015, there were 3475324 subscribers, compared to only 119028 subscribers in 2011."
   ]
  },
  {
   "cell_type": "markdown",
   "id": "4276f380",
   "metadata": {},
   "source": [
    "# What is the month of the highest number of subscribers?"
   ]
  },
  {
   "cell_type": "code",
   "execution_count": null,
   "id": "8f0f3365",
   "metadata": {},
   "outputs": [],
   "source": [
    "month_sub = df.groupby('month')['num_subscribers'].sum().sort_values(ascending = False)\n",
    "month_sub"
   ]
  },
  {
   "cell_type": "code",
   "execution_count": null,
   "id": "6296c72d",
   "metadata": {},
   "outputs": [],
   "source": [
    "plt.figure(figsize=(14,10))\n",
    "sns.barplot(x = month_sub.index,\n",
    "            y = month_sub,\n",
    "            palette = 'Set2')\n",
    "plt.title('Num of subscribers per month', fontsize = 24, weight = 'bold')\n",
    "plt.xlabel('Month', fontsize = 18, weight = 'bold')\n",
    "plt.ylabel('Number of subscribers per million', fontsize = 18, weight = 'bold')\n",
    "plt.show();"
   ]
  },
  {
   "cell_type": "markdown",
   "id": "beea41fb",
   "metadata": {},
   "source": [
    ">October, February and March associated with the highest number of subscribers."
   ]
  },
  {
   "cell_type": "markdown",
   "id": "073a4bb2",
   "metadata": {},
   "source": [
    "<a id='conclusions'></a>\n",
    "# Conclusions:"
   ]
  },
  {
   "cell_type": "markdown",
   "id": "90b42cb4",
   "metadata": {},
   "source": [
    ">Both Web Development & Business Finance almost have 1200 cousrse, Musical Instruments has 680, while Graphic Design has only  602 course.\n",
    "\n",
    ">There are 310 free courses, Web development has alone 133 of them.\n",
    "\n",
    ">Learn HTML5 Programming From Scratch leads the charts with 268923 subscribers.\n",
    "\n",
    ">No Graphic design courses less than 100 dollars.\n",
    "\n",
    ">There is 29 courses related to python.\n",
    "\n",
    ">In 2015, Free Beginner Electric Guitar Lessons had 101154 subscribers.\n",
    "\n",
    ">All Levels has a maximum subscribers of 268923, while Expert Level has only 5172 maximum subscribers.\n",
    "\n",
    "> If we exclude Free course, Price seems to not have a strong relation with number of subscribers.\n",
    "\n",
    ">Courses that have number of lectures less than 100 have higher number of subscribers.\n",
    "\n",
    ">In 2015, there were 3475324 subscribers, compared to only 119028 subscribers in 2011.\n",
    "\n",
    ">October, February and March associated with the highest number of subscribers."
   ]
  }
 ],
 "metadata": {
  "kernelspec": {
   "display_name": "Python 3",
   "language": "python",
   "name": "python3"
  },
  "language_info": {
   "codemirror_mode": {
    "name": "ipython",
    "version": 3
   },
   "file_extension": ".py",
   "mimetype": "text/x-python",
   "name": "python",
   "nbconvert_exporter": "python",
   "pygments_lexer": "ipython3",
   "version": "3.8.8"
  }
 },
 "nbformat": 4,
 "nbformat_minor": 5
}
